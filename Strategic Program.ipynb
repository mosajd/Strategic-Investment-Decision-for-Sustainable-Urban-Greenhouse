{
 "cells": [
  {
   "cell_type": "markdown",
   "id": "e9d30579",
   "metadata": {},
   "source": [
    "<!DOCTYPE html>\n",
    "\n",
    "<html lang=\"en\">\n",
    "\n",
    "<head>\n",
    "\n",
    "<meta charset=\"UTF-8\">\n",
    "  \n",
    "<meta name=\"viewport\" content=\"width=device-width, initial-scale=1.0\">\n",
    "\n",
    "  \n",
    "\n",
    "\n",
    "  <link rel=\"stylesheet\" href=\"style.css\">\n",
    "</head>\n",
    "<body>\n",
    "    \n",
    "<div id='menu'>\n",
    "    <br><br>\n",
    "    <center><h1>Strategic Program Report</h1></center>\n",
    "<ul>\n",
    "    <li><p><a href=\"#overview\">Overview</a></p></li>\n",
    "<li><p><a href=\"#decision\">Decision Making Process</a></p></li>\n",
    "    <ul>\n",
    "        <li><p><a href=\"#problem\">Problem Definition</a></p></li>\n",
    "        <li><p><a href=\"#req_det\">Requirement Determining</a></p></li>\n",
    "        <li><p><a href=\"#goal_est\">Goal Establishment</a></p></li>\n",
    "        <li><p><a href=\"#alt_ide\">Alternatives Identification </a></p></li>\n",
    "        <ul>\n",
    "            <li><p><a href=\"#import\"><code>Import Libraries</code></a></p></li>\n",
    "            <li><p><a href=\"#products\"><code>class Products</code></a></p></li>\n",
    "            <li><p><a href=\"#import_irradiance\"><code>Import Irradiance Data</code></a></p></li>\n",
    "            <li><p><a href=\"#def_pv\"><code>Function PV</code></a></p></li>\n",
    "            <li><p><a href=\"#wt\"><code>Function WT (Wind Turbine)</code></a></p></li>\n",
    "            <li><p><a href=\"#def_rainwater\"><code>Function collect_rain_water</code></a></p></li>\n",
    "        </ul>\n",
    "        <li><p><a href=\"#criteria\">Criteria Definition</a></p></li>\n",
    "        <li><p><a href=\"#decision_tools\">Selection of decision-making tools</a></p></li>\n",
    "        <ul>\n",
    "            <li><p><a href=\"#cashflow\"><code>Function CashFlow</code></a></p></li>\n",
    "            <li><p><a href=\"#bcr\"><code>Function BCR</code></a></p></li>\n",
    "            <li><p><a href=\"#cba_1\">Cost Benefit Analysis for Alternative 1: PV</a></p></li>\n",
    "            <li><p><a href=\"#cba_2\">Cost Benefit Analysis for Alternative 2: Wind Turbine</a></p></li>\n",
    "            <li><p><a href=\"#cba_3\">Cost Benefit Analysis for Alternative 3: Rainwater Harvesting System</a></p></li>\n",
    "            <li><p><a href=\"#ahp\">Analytic Hierarchy Process (AHP)</a></p></li>\n",
    "        </ul>\n",
    "        <li><p><a href=\"#evaluation\">Evaluation Alternatives Against Criteria</a></p></li>\n",
    "        <li><p><a href=\"#validation\">Validation Solutions Against Problem Statement</a></p></li>\n",
    "    </ul>\n",
    "<li><p><a href=\"#wbs\">WBS & Gantt Chart </a></p></li>\n",
    "<li><p><a href=\"#cpm\">Critical Path Method (CPM) </a></p></li>\n",
    "    <ul>\n",
    "        <li><p><a href=\"#network\"><code>Class NetworkDiagram</code></a></p></li>\n",
    "    </ul>\n",
    "<li><p><a href=\"#risk\">Risk Assessment</a></p></li>\n",
    "    <ul>\n",
    "<li><p><a href=\"#risk_monte\">Monte Carlo Simulation and Critical Path Analysis: A Risk-Based Approach</a></p></li>\n",
    "     </ul>\n",
    "<li><p><a href=\"#scheduling\">Activities Scheduling</a></p></li>\n",
    "</ul>\n",
    "</div>\n",
    "\n",
    "\n",
    "\n",
    "</body>\n",
    "</html>"
   ]
  },
  {
   "cell_type": "markdown",
   "id": "ad5217ea",
   "metadata": {},
   "source": [
    "<div style=\"background-color:#a7af46;\" id=\"overview\"><br>\n",
    "<center><h1 style=\"font-family:Lucida Bright\">Overview</h1></center><br><br>\n",
    "</div>"
   ]
  },
  {
   "cell_type": "markdown",
   "id": "b6332a39",
   "metadata": {},
   "source": [
    "In my previous project on the fundamentals of strategic management, I developed an agent-based model called <a href=\"https://github.com/mosajd/Agent-Based-Modeling-for-Strategic-Management-of-Urban-Food-Energy-Water-Nexus\">\"Agent-Based Modeling for Strategic Management of Urban Food-Energy-Water Nexus for Sustainable Development.\"</a> This model focuses on the interactions between three types of urban farms: <b>Price-Based</b>, <b>Quality-Based</b>, and <b>Eco-Environmentally Focused</b>. Additionally, it considers four types of customers: <b>Price-Sensitive</b>, <b>Quality-Oriented</b>, <b>Environmentally Conscious</b>, and <b>Dietary Preference-Based</b>. \n",
    "\n",
    "Each type of farm adopts a unique competitive strategy based on Porter's generic strategies framework. Let's explore these strategies in detail: \n",
    "<ul>\n",
    "    <li><p>The Price-Based farm aims to produce high-demand vegetables at a competitive price to attract cost-conscious customers. It implements cost-saving measures such as efficient irrigation systems, waste minimization, and optimized production processes to reduce production costs. This approach aligns with Michael Porter's cost leadership strategy, which emphasizes minimizing costs to achieve a competitive advantage through price leadership.</p></li>\n",
    "    <li><p>The Quality-Based farm focuses on producing high-quality, fresh vegetables from local farms to attract customers willing to pay a premium for superior quality. It invests in premium inputs and practices, such as organic fertilizers, high-quality seeds, and advanced irrigation systems, to ensure the highest quality vegetables. This approach aligns with Porter's differentiation strategy, which emphasizes product differentiation to achieve a competitive advantage through customer appeal.</p></li>\n",
    "    <li><p>The Eco-Environmentally Focused farm prioritizes sustainability by producing vegetables with a low water footprint and using renewable energy sources. Its goal is to attract environmentally conscious customers. The farm invests in renewable energy technologies like solar panels to generate electricity and implements a rainwater collection system to minimize reliance on municipal water. This approach aligns with Porter's focused differentiation strategy, which involves focusing on a narrow market segment to achieve a competitive advantage through product differentiation.</p></li>\n",
    "   </ul>\n",
    "\n",
    "Considering Porter's recommendations, the scale of production for the Eco-Environmentally Focused farm is smaller compared to the other farms. Its growing area is limited to 200 square meters, while the other farms have a growing area of 400 square meters. To compensate for this limitation, the Eco-Environmentally Focused farm applies the focused differentiation strategy to attract customers from niche markets. It employs both sustainable and organic production approaches and targets environmentally conscious and dietary preference-based customers, even though their numbers may be lower compared to other customer types. \n",
    "\n",
    "In this research, I explore various alternatives to identify the best solution for investment in the Eco-Environmentally Focused farm to enhance its sustainability. By proposing different approaches and considering the farm's specific constraints, the aim is to find strategies that optimize its operations and attract the target customers effectively. "
   ]
  },
  {
   "cell_type": "markdown",
   "id": "b05dec31",
   "metadata": {},
   "source": [
    "<div style=\"background-color:#a7af46;\" id=\"decision\"><br>\n",
    "<center><h1 style=\"font-family:Lucida Bright\">Decision Making Process</h1></center><br><br>\n",
    "</div>"
   ]
  },
  {
   "cell_type": "markdown",
   "id": "21ecd0bc",
   "metadata": {},
   "source": [
    "<p>To ensure a comprehensive and systematic approach to decision-making in this project, I employed a structured framework comprising eight distinct steps. This approach guides individuals and teams through the process of making informed decisions from problem identification to solution evaluation and implementation. It emphasizes the importance of clearly defining the problem, gathering relevant information, exploring alternative solutions, carefully evaluating each option, and ultimately selecting the most appropriate course of action. Additionally, the framework underscores the need to implement the chosen solution and continuously monitor its effectiveness to ensure that it effectively addresses the initial challenge.</p><br>\n",
    "\n",
    "<figure>\n",
    "  <img src=\"images/decision_making_framework.jpg\" alt=\"decision_making_framework\" width=\"500\" height=\"600\">\n",
    "  <figcaption style=\"text-align: center; padding: 2px; font-style: italic;\">Decision Making Process Framework</figcaption>\n",
    "</figure>"
   ]
  },
  {
   "cell_type": "markdown",
   "id": "d2dede62",
   "metadata": {},
   "source": [
    "<div style=\"background-color:#a7af46;\" id=\"problem\">\n",
    "<center><h2 style=\"font-family:Lucida Bright\">Problem Definition</h2></center><br>\n",
    "</div>"
   ]
  },
  {
   "cell_type": "markdown",
   "id": "222acca7",
   "metadata": {},
   "source": [
    "The Eco-Environmentally Focused farm, operating at half the scale of its competitors, aims to enhance its sustainability practices in order to attract environmentally conscious and dietary preference-based customers within the niche market. "
   ]
  },
  {
   "cell_type": "markdown",
   "id": "7036cf7f",
   "metadata": {},
   "source": [
    "<div style=\"background-color:#a7af46;\" id=\"req_det\">\n",
    "<center><h2 style=\"font-family:Lucida Bright\">Requirement Determining</h2></center><br>\n",
    "</div>"
   ]
  },
  {
   "cell_type": "markdown",
   "id": "1dee1657",
   "metadata": {},
   "source": [
    "The proposed solution should contribute to the achievement of at least a few Sustainable Development Goals (SDGs). It should align with the farm's capacity and capabilities, considering factors such as the available space for installing devices, the geographical potential for generating energy from renewable sources, and the farm's budget constraints. Additionally, the proposed solution should be eligible for the necessary licenses or permits required for its installation."
   ]
  },
  {
   "cell_type": "markdown",
   "id": "6eec8256",
   "metadata": {},
   "source": [
    " <div style=\"background-color:#a7af46;\" id=\"goal_est\">\n",
    "<center><h2 style=\"font-family:Lucida Bright\">Goal Establishment</h2></center><br>\n",
    "</div>"
   ]
  },
  {
   "cell_type": "markdown",
   "id": "207c1105",
   "metadata": {},
   "source": [
    "To enhance the farm's sustainability by implementing innovative devices or equipment that align with the principles of Sustainable Development Goals (SDGs), thereby differentiating the farm's production practices and establishing a competitive advantage. "
   ]
  },
  {
   "cell_type": "markdown",
   "id": "a4c2d8d6",
   "metadata": {},
   "source": [
    "<div style=\"background-color:#a7af46;\" id=\"alt_ide\">\n",
    "<center><h2 style=\"font-family:Lucida Bright\">Alternatives Identification </h2></center><br>\n",
    "</div>"
   ]
  },
  {
   "cell_type": "markdown",
   "id": "3ac6a1d7",
   "metadata": {},
   "source": [
    "<div style=\"background-color:#46a7af;\" id=\"import\">\n",
    "    <code>Import Libraries</code>\n",
    "</div>"
   ]
  },
  {
   "cell_type": "code",
   "execution_count": 1,
   "id": "b8fc0128",
   "metadata": {},
   "outputs": [],
   "source": [
    "try:\n",
    "    import pandas as pd\n",
    "    import numpy as np\n",
    "    from tabulate import tabulate\n",
    "    import numpy_financial as npf\n",
    "    from datetime import date, timedelta\n",
    "    import re\n",
    "    import matplotlib.pyplot as plt\n",
    "    import networkx as nx\n",
    "    from criticalpath import Node\n",
    "    import plotly.express as px\n",
    "    from IPython.display import Image\n",
    "    import processscheduler as ps\n",
    "except:\n",
    "    !pip install --quiet pandas\n",
    "    !pip install --quiet numpy\n",
    "    !pip install --quiet tabulate\n",
    "    !pip install --quiet numpy-financial\n",
    "    !pip install --quiet datetime\n",
    "    !pip install --quiet re\n",
    "    !pip install --quiet matplotlib\n",
    "    !pip install --quiet networkx\n",
    "    !pip install --quiet criticalpath\n",
    "    !pip install --quiet plotly\n",
    "    !pip install --quiet Ipython\n",
    "    !pip install --quiet processscheduler"
   ]
  },
  {
   "cell_type": "markdown",
   "id": "29c71abb",
   "metadata": {},
   "source": [
    "<div style=\"background-color:#46a7af;\" id=\"products\">\n",
    "    <code>class Products</code>\n",
    "</div>"
   ]
  },
  {
   "cell_type": "code",
   "execution_count": 2,
   "id": "e0e70528",
   "metadata": {},
   "outputs": [],
   "source": [
    "class Products():\n",
    "    '''\n",
    "    This class creates objects for the farms for growing vegetables. this class includes different methods for harvesting,\n",
    "    calculating different costs, and selling prices.\n",
    "    '''\n",
    "    \n",
    "    '''\n",
    "    Define the cost per unit of water and electricity.\n",
    "    These global variables use inside the Farm class methods to find the cost of energy and water.\n",
    "    '''\n",
    "    global water_cost \n",
    "    water_cost = 0.002 # Euro per liter\n",
    "    global electricity_cost\n",
    "    electricity_cost = 0.2 # Euro per kilowatt-hour (kWh)\n",
    "    \n",
    "    \n",
    "    '''\n",
    "    Here is defined a dictionary icluding required infromation for growing vegetables for each Farm agent.\n",
    "    '''\n",
    "    vegetables_dict = {\n",
    "        \"Tomatoes\": {\"harvest_interval\":[60,70,80], # Harvest interval (days) for each quality level\n",
    "                     \"land_required\":[1.5, 1.75, 2], # Land required per kg of vegetable (m²/kg) for each quality level\n",
    "                     \"water_required\":[200, 225, 250], # Water required per kg of vegetable (liters/kg) for each quality level\n",
    "                    \"energy_required\":[0.3,0.35,0.4], # Energy required per kg of vegetable (kWh/kg) for each quality level\n",
    "                     \"other_cost\":[0.2, 0.25, 0.3], # Other costs per kg of vegetable (Euro/kg) for each quality level\n",
    "                     \"selling_price\":[1,2,3]}, # Selling price per kg of vegetable (Euro/kg) for each quality level\n",
    "        \"Lettuce\": {\"harvest_interval\":[30,37,45], \"land_required\":[0.5, 0.75, 1], \"water_required\":[100, 125, 150],\n",
    "                    \"energy_required\":[0.1,0.15,0.2], \"other_cost\":[0.1, 0.15, 0.2], \"selling_price\":[0.5,1,1.5]},\n",
    "        \"Cucumbers\": {\"harvest_interval\":[50,55,60], \"land_required\":[1, 1.25, 1.5], \"water_required\":[200, 225, 250],\n",
    "                    \"energy_required\":[0.3,0.35,0.4], \"other_cost\":[0.2, 0.25, 0.3], \"selling_price\":[1,1.5,2]},\n",
    "        \"Peppers\": {\"harvest_interval\":[60,67,75], \"land_required\":[1.5, 1.75, 2], \"water_required\":[250, 275, 300],\n",
    "                    \"energy_required\":[0.3,0.35,0.4], \"other_cost\":[0.2, 0.25, 0.3], \"selling_price\":[1,1.75,2.5]},\n",
    "        \"Eggplants\": {\"harvest_interval\":[60,65,70], \"land_required\":[1.5, 1.75, 2], \"water_required\":[200, 225, 250],\n",
    "                    \"energy_required\":[0.3,0.35,0.4], \"other_cost\":[0.2, 0.25, 0.3], \"selling_price\":[1,1.5,2]},\n",
    "        \"Basil\": {\"harvest_interval\":[45,52,60], \"land_required\":[0.5, 0.75, 1], \"water_required\":[100, 125, 150],\n",
    "                    \"energy_required\":[0.1,0.15,0.2], \"other_cost\":[0.1,0.15,0.2], \"selling_price\":[0.5,0.75,1]},\n",
    "        \"Arugula\": {\"harvest_interval\":[30,37,45], \"land_required\":[0.5, 0.75, 1], \"water_required\":[100, 125, 150],\n",
    "                    \"energy_required\":[0.1,0.15,0.2], \"other_cost\":[0.1,0.15,0.2], \"selling_price\":[0.5,1,1.5]},\n",
    "        \"Spinach\": {\"harvest_interval\":[30,37,45], \"land_required\":[0.5, 0.75, 1], \"water_required\":[100, 125, 150],\n",
    "                    \"energy_required\":[0.1,0.15,0.2], \"other_cost\":[0.1,0.15,0.2], \"selling_price\":[0.5,1,1.5]},\n",
    "        \"Radishes\": {\"harvest_interval\":[25,27,35], \"land_required\":[0.5, 0.75, 1], \"water_required\":[100, 125, 150],\n",
    "                    \"energy_required\":[0.1,0.15,0.2], \"other_cost\":[0.1,0.15,0.2], \"selling_price\":[0.3,0.55,0.8]},\n",
    "        \"Carrots\": {\"harvest_interval\":[60,65,70], \"land_required\":[1.5, 1.75, 2], \"water_required\":[200, 225, 250],\n",
    "                    \"energy_required\":[0.3,0.35,0.4], \"other_cost\":[0.2,0.25,0.3], \"selling_price\":[1,1.5,2]},\n",
    "        \"Onions\": {\"harvest_interval\":[110,120,130], \"land_required\":[1, 1.25, 1.5], \"water_required\":[200, 225, 250],\n",
    "                    \"energy_required\":[0.3,0.35,0.4], \"other_cost\":[0.2,0.25,0.3], \"selling_price\":[1,1.5,2]},\n",
    "        \"Potatoes\": {\"harvest_interval\":[90,105,120], \"land_required\":[1, 1.25, 1.5], \"water_required\":[200, 225, 250],\n",
    "                    \"energy_required\":[0.3,0.35,0.4], \"other_cost\":[0.2,0.25,0.3], \"selling_price\":[1,1.5,2]}\n",
    "    }\n",
    "    \n",
    "    def __init__(self, quality: str, farming_method: list, vegetables: list, land: int):\n",
    "        \"\"\"\n",
    "        Initialize the `Products` object with the specified quality, farming method vegetables to be cultivated, and land area.\n",
    "\n",
    "        Args:\n",
    "            quality (str): The quality level of the vegetables ('Low', 'Average', or 'High')\n",
    "            vegetables (str): A list of vegetables to be cultivated (e.g., ['Tomatoes', 'Lettuce'])\n",
    "            land (int): The total land area available for cultivation (default: 1000 m²)\n",
    "        \"\"\"\n",
    "        self.land = land\n",
    "        self.vegetables = vegetables\n",
    "        self.quality = quality\n",
    "        self.farming_method = farming_method\n",
    "\n",
    "    def get_index(self) -> dict:\n",
    "        \"\"\"\n",
    "        Get the index of the specified quality in the `vegetables_dict`.\n",
    "\n",
    "        - For Price-Based Strategy farm is the index of 'Low' quality considered.\n",
    "        - For Quality-Based Strategy farm is the index of 'High' quality considered.\n",
    "        - For Eco-Environmentally Focused Strategy farm is the index of 'Average' quality considered.\n",
    "\n",
    "        Raises:\n",
    "            ValueError: If the quality is not defined in the `vegetables_dict`.\n",
    "        \"\"\"\n",
    "        qualities = ['Low', 'Average', 'High']\n",
    "        index_map = {quality: index for index, quality in enumerate(qualities)}\n",
    "        try:\n",
    "            return index_map[self.quality]\n",
    "        except KeyError:\n",
    "            raise ValueError(f\"Quality {self.quality} is not defined correctly.\")\n",
    "\n",
    "    def Cultivate(self) -> dict:\n",
    "        \"\"\"\n",
    "        Calculate the weekly production of each vegetable based on the specified quality and land area.\n",
    "        It assumes that the farm has the growing planning in the way to have specific amount of all growing vegetables\n",
    "        every week to sell in the market.\n",
    "\n",
    "        Returns:\n",
    "            dict: A dictionary containing the weekly production of each vegetable (kg/week)\n",
    "        \"\"\"\n",
    "        index = self.get_index()\n",
    "        number_of_vegetables = len(self.vegetables)\n",
    "        devided_land = self.land / number_of_vegetables\n",
    "        production_dict = dict()\n",
    "        for veg in self.vegetables:\n",
    "            # Get the harvest interval and annual production cycles for the specified vegetable\n",
    "            harvest_interval = Products.vegetables_dict[veg]['harvest_interval'][index] # days\n",
    "            production_cycles_per_year = 365 // harvest_interval # number\n",
    "            \n",
    "            # Get the land required and weekly production for the specified vegetable\n",
    "            land_required = self.vegetables_dict[veg]['land_required'][index] # m²/kg\n",
    "            weekly_production = ((devided_land / land_required) * production_cycles_per_year) / 52\n",
    "            \n",
    "            # Round the weekly production to one decimal place and add it to the dictionary\n",
    "            production_dict[veg] = round(weekly_production, 1)\n",
    "        return production_dict\n",
    "    \n",
    "    def calculate_water(self) -> dict:\n",
    "        \"\"\"\n",
    "        Calculate the weekly water consumption for each vegetable based on the specified quality and water requirements.\n",
    "\n",
    "        Returns:\n",
    "            dict: A dictionary containing the weekly water consumption of each vegetable (liters/week)\n",
    "        \"\"\"\n",
    "        water_required_dict = self.Cultivate()\n",
    "        index = self.get_index()\n",
    "        \n",
    "        for veg in self.vegetables:\n",
    "            # Get the water required per kg and calculate the weekly water consumption\n",
    "            water_per_kg = self.vegetables_dict[veg]['water_required'][index] # liter/kg\n",
    "            # Update the dictionary with the weekly water consumption\n",
    "            water_required_dict[veg] *= round(water_per_kg, 1)\n",
    "        return water_required_dict\n",
    "    \n",
    "    def calculate_energy(self) -> dict:\n",
    "        \"\"\"\n",
    "        Calculate the weekly energy consumption for each vegetable based on the specified quality and energy requirements.\n",
    "\n",
    "        Returns:\n",
    "            dict: A dictionary containing the weekly energy consumption of each vegetable (kWh/week)\n",
    "        \"\"\"\n",
    "        energy_required_dict = self.Cultivate()\n",
    "        index = self.get_index()\n",
    "        \n",
    "        for veg in self.vegetables:\n",
    "            # Get the energy required per kg and calculate the weekly energy consumption\n",
    "            energy_required = self.vegetables_dict[veg]['energy_required'][index] # KWh/kg\n",
    "            energy_required_dict[veg] *= round(energy_required, 3) # kWh/week\n",
    "        return energy_required_dict\n",
    "    \n",
    "    def calculate_other_cost(self) -> dict:\n",
    "        \"\"\"\n",
    "        Calculate the weekly other costs for each vegetable based on the specified quality and other cost requirements.\n",
    "\n",
    "        Returns:\n",
    "            dict: A dictionary containing the weekly other costs of each vegetable (Euro/week)\n",
    "        \"\"\"\n",
    "        other_cost_dict = self.Cultivate()\n",
    "        index = self.get_index()\n",
    "        \n",
    "        for veg in self.vegetables:\n",
    "            # Get the other cost per kg and calculate the weekly other cost\n",
    "            other_cost = self.vegetables_dict[veg]['other_cost'][index] \n",
    "            other_cost_dict[veg] *= other_cost \n",
    "        return other_cost_dict\n",
    "    \n",
    "    def calculate_production_cost(self) -> dict:\n",
    "        \"\"\"\n",
    "        Calculate the weekly production cost for each vegetable based on the specified quality, water cost, electricity cost, \n",
    "        and other costs.\n",
    "\n",
    "        Returns:\n",
    "            dict: A dictionary containing the weekly production cost of each vegetable (Euro/week)\n",
    "        \"\"\"\n",
    "        index = self.get_index()\n",
    "        production_cost_dict = dict()\n",
    "        \n",
    "        for veg in self.vegetables:\n",
    "            # Get the water cost, energy cost, and other cost per kg\n",
    "            water_cost_per_kg = Products.vegetables_dict[veg]['water_required'][index] * water_cost\n",
    "            energy_cost_per_kg = Products.vegetables_dict[veg]['energy_required'][index] * electricity_cost\n",
    "            other_cost = Products.vegetables_dict[veg]['other_cost'][index]\n",
    "            \n",
    "            # Calculate the total production cost per kg\n",
    "            production_cost_dict.update({veg:round(water_cost_per_kg + energy_cost_per_kg + other_cost, 2)}) # Euro/kg\n",
    "        return production_cost_dict\n",
    "    \n",
    "    def sell_price(self) -> dict:\n",
    "        '''\n",
    "        This method return back the selling price of each vegetable based on the quality given in the 'vegetables_dict'\n",
    "        '''\n",
    "        selling_price_dict = self.Cultivate()\n",
    "        index = self.get_index()\n",
    "        \n",
    "        for veg in self.vegetables:\n",
    "            selling_price = self.vegetables_dict[veg]['selling_price'][index]\n",
    "            selling_price_dict.update({veg:selling_price})\n",
    "        return selling_price_dict\n",
    "    \n",
    "    def harvest(self) -> dict:\n",
    "        '''\n",
    "        This methods return back a dictionary for all the products of the specified farm object including its farming method,\n",
    "        quality and price\n",
    "        '''\n",
    "        harvest = dict()\n",
    "        for veg, value in self.Cultivate().items():\n",
    "            harvest[veg] = {\"Amount\":value}\n",
    "        for veg, value in self.sell_price().items():\n",
    "            harvest[veg].update({\"Price\":value})\n",
    "            harvest[veg].update({\"Quality\":self.quality})\n",
    "            harvest[veg].update({\"Farming Method\":self.farming_method})\n",
    "        return harvest"
   ]
  },
  {
   "cell_type": "code",
   "execution_count": 3,
   "id": "5f06e1a1",
   "metadata": {},
   "outputs": [],
   "source": [
    "growing_area = 200 # m2\n",
    "products = Products(quality=\"Average\", farming_method=[\"organic\", \"sustainable\"], \n",
    "                           vegetables=[\"Tomatoes\", \"Potatoes\", \"Carrots\", \"Eggplants\", \"Spinach\"], land = growing_area)"
   ]
  },
  {
   "cell_type": "markdown",
   "id": "62a61c6a",
   "metadata": {},
   "source": [
    "<h3 style=\"font-family:Lucida Bright\">Total amount of required energy for growing products for one year (kWh/year):</h3><br>"
   ]
  },
  {
   "cell_type": "code",
   "execution_count": 11,
   "id": "ebe9ef19",
   "metadata": {},
   "outputs": [
    {
     "name": "stdout",
     "output_type": "stream",
     "text": [
      "\n",
      " Annual Energy Required =  224.64  kWh/year \n",
      "\n"
     ]
    }
   ],
   "source": [
    "a = [i for i in products.calculate_energy().values()]\n",
    "annual_energy_required = round(sum(a) * 52, 3)\n",
    "print('\\n','Annual Energy Required = ',annual_energy_required, ' kWh/year', '\\n')"
   ]
  },
  {
   "cell_type": "markdown",
   "id": "d1ba9cc1",
   "metadata": {},
   "source": [
    "<h3 style=\"font-family:Lucida Bright\">Total amount of required water for growing products for one year (m³/year)</h3><br>"
   ]
  },
  {
   "cell_type": "code",
   "execution_count": 12,
   "id": "1d6a1d65",
   "metadata": {},
   "outputs": [
    {
     "name": "stdout",
     "output_type": "stream",
     "text": [
      "\n",
      " Annual Water Required =  158.08  m³/year \n",
      "\n"
     ]
    }
   ],
   "source": [
    "b = [i for i in products.calculate_water().values()]\n",
    "annual_water_required = round(sum(b)/1000 * 52, 2)\n",
    "print('\\n','Annual Water Required = ',annual_water_required, ' m³/year', '\\n')"
   ]
  },
  {
   "cell_type": "markdown",
   "id": "491bbbbf",
   "metadata": {},
   "source": [
    "<h3 style=\"font-family:Lucida Bright\">Total amount of operational cost for growing products for one year (Euro/year):</h3><br>"
   ]
  },
  {
   "cell_type": "code",
   "execution_count": 13,
   "id": "753479d9",
   "metadata": {},
   "outputs": [
    {
     "name": "stdout",
     "output_type": "stream",
     "text": [
      "\n",
      " Annual Operational Cost =  180.96  Euro/year \n",
      "\n"
     ]
    }
   ],
   "source": [
    "c = [i for i in products.calculate_other_cost().values()]\n",
    "annual_operational_cost = round(sum(c) * 52, 2)\n",
    "print('\\n','Annual Operational Cost = ',annual_operational_cost, ' Euro/year', '\\n')"
   ]
  },
  {
   "cell_type": "markdown",
   "id": "57cbc765",
   "metadata": {},
   "source": [
    "<h3 style=\"font-family:Lucida Bright\">The amount of revenue from selling vegetables for one year (Euro/year):</h3><br>"
   ]
  },
  {
   "cell_type": "code",
   "execution_count": 14,
   "id": "936acc6e",
   "metadata": {},
   "outputs": [
    {
     "name": "stdout",
     "output_type": "stream",
     "text": [
      "\n",
      " Annual Revenue =  1190.8  Euro/year \n",
      "\n"
     ]
    }
   ],
   "source": [
    "d = [v * products.sell_price()[k] for k,v in products.Cultivate().items()]\n",
    "annual_revenue = sum(d) * 52 \n",
    "print('\\n', 'Annual Revenue = ',annual_revenue, ' Euro/year', '\\n')"
   ]
  },
  {
   "cell_type": "markdown",
   "id": "d53ce030",
   "metadata": {},
   "source": [
    "Firstly, an assessment is conducted to determine the needs and specific conditions of the greenhouse. The greenhouse is situated in Genoa and has a total growing land area of <span style=\"color:red\">200 square meters</span>. The annual electricity energy requirement for this farm is calculated to be <span style=\"color:red\">224.64 kWh/year</span>, while the water requirement for crop irrigation amounts to <span style=\"color:red\">158.08 m³/year</span>. Additionally, after considering other annual costs, the total reaches <span style=\"color:red\">180.96 Euro/year</span>. On the income side, the greenhouse generates revenue through the sale of its products, resulting in a total income of <span style=\"color:red\">1190.8 Euro/year</span>. \n",
    "\n",
    "To meet the annual energy and water demands for cultivating vegetables in the specified farm, three distinct technologies were evaluated using various models: <b>solar photovoltaic (PV)</b>, <b>wind turbines</b>, and <b>rainwater harvesting systems</b>.  \n",
    "\n",
    "For the comparison of photovoltaic panels and wind turbines based on the greenhouse's annual energy requirement, 12 photovoltaic panels and 3 wind turbines were evaluated, with separate specifications. "
   ]
  },
  {
   "cell_type": "markdown",
   "id": "7a0f7de8",
   "metadata": {},
   "source": [
    "<div style=\"background-color:#46a7af;\" id=\"import_irradiance\">\n",
    "    <code>Import Irradiance Data</code>\n",
    "</div>"
   ]
  },
  {
   "cell_type": "code",
   "execution_count": 15,
   "id": "991bfa2d",
   "metadata": {},
   "outputs": [],
   "source": [
    "# Read the CSV file\n",
    "irradiance_data = pd.read_csv('files/NSRDB_Genova_2019.csv')"
   ]
  },
  {
   "cell_type": "markdown",
   "id": "4f99a5e8",
   "metadata": {},
   "source": [
    "<div style=\"background-color:#46a7af;\" id=\"def_pv\">\n",
    "    <code>Function PV</code>\n",
    "</div>"
   ]
  },
  {
   "cell_type": "code",
   "execution_count": 16,
   "id": "0b09fb8b",
   "metadata": {},
   "outputs": [],
   "source": [
    "def PV(M, G, T):\n",
    "    if M == 'PV_LG_Neon_2_Bifacial_LG415N2T_L5':\n",
    "        eff = 0.20\n",
    "        lenght = 2024/1000 #m\n",
    "        width = 1024/1000 #m\n",
    "        A = lenght * width\n",
    "        price = 274\n",
    "        Tref = 0.35 / 100\n",
    "        link = 'https://www.europe-solarstore.com/lg-neon-2-bifacial-lg415n2t-l5.html'\n",
    "        P_w = eff * A * G * (1 - Tref * T) / 1000 # kW\n",
    "        lowBound = 0\n",
    "        upBound = 415\n",
    "        \n",
    "    if M == 'PV_LG_Neon_2_Bifacial_LG410N2T_L5':\n",
    "        eff = 0.198\n",
    "        lenght = 2024/1000 #m\n",
    "        width = 1024/1000 #m\n",
    "        A = lenght * width\n",
    "        price = 245\n",
    "        Tref = 0.35 / 100\n",
    "        link = 'https://www.europe-solarstore.com/lg-neon-2-bifacial-lg410n2t-l5.html'\n",
    "        P_w = eff * A * G * (1 - Tref * T) / 1000 # kW\n",
    "        lowBound = 0\n",
    "        upBound = 410\n",
    "        \n",
    "    if M == 'PV_SunPower_SPR-MAX3-390':\n",
    "        eff = 0.221\n",
    "        lenght = 1690/1000 #m\n",
    "        width = 1046/1000 #m\n",
    "        A = lenght * width\n",
    "        price = 304\n",
    "        Tref = 0.29 / 100\n",
    "        link = 'https://www.europe-solarstore.com/sunpower-spr-max3-390.html'\n",
    "        P_w = eff * A * G * (1 - Tref * T) / 1000 # kW\n",
    "        lowBound = 0\n",
    "        upBound = 390\n",
    "        \n",
    "    if M == 'PV_Sharp_NU-AF370':\n",
    "        eff = 0.190\n",
    "        lenght = 1960/1000 #m\n",
    "        width = 992/1000 #m\n",
    "        A = lenght * width\n",
    "        price = 145\n",
    "        Tref = 0.375 / 100\n",
    "        link = 'https://www.europe-solarstore.com/sharp-nu-af370.html'\n",
    "        P_w = eff * A * G * (1 - Tref * T) / 1000 # kW\n",
    "        lowBound = 0\n",
    "        upBound = 370\n",
    "        \n",
    "    if M == 'PV_LG_Neon_R_LG370Q1C-V5':\n",
    "        eff = 0.214\n",
    "        lenght = 1700/1000 #m\n",
    "        width = 1016/1000 #m\n",
    "        A = lenght * width\n",
    "        price = 297\n",
    "        Tref = 0.3 / 100\n",
    "        link = 'https://www.europe-solarstore.com/lg-neon-r-lg370q1c-v5.html'\n",
    "        P_w = eff * A * G * (1 - Tref * T) / 1000 # kW\n",
    "        lowBound = 0\n",
    "        upBound = 370\n",
    "        \n",
    "    if M == 'PV_Victron_215W-24V_Mono':\n",
    "        eff = 0.20 #not given\n",
    "        lenght = 1580/1000 #m\n",
    "        width = 808/1000 #m\n",
    "        A = lenght * width\n",
    "        price = 181\n",
    "        Tref = 0.45 / 100\n",
    "        link = 'https://www.europe-solarstore.com/victron-215w-24v-mono.html'\n",
    "        P_w = eff * A * G * (1 - Tref * T) / 1000 # kW\n",
    "        lowBound = 0\n",
    "        upBound = 370\n",
    "        \n",
    "    if M == 'PV_Trina_Honey_M_TSM-335DE06M.08':\n",
    "        eff = 0.197 \n",
    "        lenght = 1698/1000 #m\n",
    "        width = 1004/1000 #m\n",
    "        A = lenght * width\n",
    "        price = 127\n",
    "        Tref = 0.37 / 100\n",
    "        link = 'https://www.europe-solarstore.com/trina-honeym-tsm-335de06m-08-ii.html'\n",
    "        P_w = eff * A * G * (1 - Tref * T) / 1000 # kW\n",
    "        lowBound = 0\n",
    "        upBound = 335\n",
    "        \n",
    "    if M == 'PV_Trina_Honey_M_TSM-375DE08M.08':\n",
    "        eff = 0.205 \n",
    "        lenght = 1763/1000 #m\n",
    "        width = 1040/1000 #m\n",
    "        A = lenght * width\n",
    "        price = 156\n",
    "        Tref = 0.34 / 100\n",
    "        link = 'https://www.europe-solarstore.com/trina-honey-m-tsm-375de08m-08-ii.html'\n",
    "        P_w = eff * A * G * (1 - Tref * T) / 1000 # kW\n",
    "        lowBound = 0\n",
    "        upBound = 375\n",
    "        \n",
    "    if M == 'PV_LG_Neon_2_Black_LG325N1K-V5':\n",
    "        eff = 0.19\n",
    "        lenght = 1686/1000 #m\n",
    "        width = 1016/1000 #m\n",
    "        A = lenght * width\n",
    "        price = 174\n",
    "        Tref = 0.36 / 100\n",
    "        link = 'https://www.europe-solarstore.com/lg-neon-2-black-lg325n1k-v5.html'\n",
    "        P_w = eff * A * G * (1 - Tref * T) / 1000 # kW\n",
    "        lowBound = 0\n",
    "        upBound = 325\n",
    "        \n",
    "    if M == 'PV_Axitec_AXIpower_AC-275P/60S':\n",
    "        eff = 0.169\n",
    "        lenght = 1640/1000 #m\n",
    "        width = 992/1000 #m\n",
    "        A = lenght * width\n",
    "        price = 114\n",
    "        Tref = 0.4 / 100\n",
    "        link = 'https://www.europe-solarstore.com/axitec-axipower-ac-275p-60s.html'\n",
    "        P_w = eff * A * G * (1 - Tref * T) / 1000 # kW\n",
    "        lowBound = 0\n",
    "        upBound = 275\n",
    "        \n",
    "    if M == 'PV_Axitec_AXIpower_AC-285PH/60S':\n",
    "        eff = 0.1715\n",
    "        lenght = 1675/1000 #m\n",
    "        width = 992/1000 #m\n",
    "        A = lenght * width\n",
    "        price = 126\n",
    "        Tref = 0.4 / 100\n",
    "        link = 'https://www.europe-solarstore.com/axitec-axipower-ac-285ph-60s.html'\n",
    "        P_w = eff * A * G * (1 - Tref * T) / 1000 # kW\n",
    "        lowBound = 0\n",
    "        upBound = 285\n",
    "        \n",
    "    if M == 'PV_Axitec_AXIpremium_AC-360M/156-72S':\n",
    "        eff = 0.1855\n",
    "        lenght = 1956/1000 #m\n",
    "        width = 992/1000 #m\n",
    "        A = lenght * width\n",
    "        price = 177\n",
    "        Tref = 0.4 / 100\n",
    "        link = 'https://www.europe-solarstore.com/axitec-axipremium-ac-360m-156-72s.html'\n",
    "        P_w = eff * A * G * (1 - Tref * T) / 1000 # kW\n",
    "        lowBound = 0\n",
    "        upBound = 360\n",
    "        \n",
    "    service_cost = 50 # Euro per year\n",
    "    lifespan = 20 # years\n",
    "    \n",
    "    return {'lowBound':lowBound, 'upBound':upBound, 'P':P_w, 'eff':eff, 'lifespan':lifespan,\n",
    "            'A':A, 'Tref':Tref, 'price':price, 'service_cost':service_cost, 'link':link}"
   ]
  },
  {
   "cell_type": "code",
   "execution_count": 17,
   "id": "0c2f53de",
   "metadata": {},
   "outputs": [
    {
     "name": "stdout",
     "output_type": "stream",
     "text": [
      "+-----------------------------------+------------------------+----------------+--------+------+--------------+----------+\n",
      "|             PV Model              | Total Generated Energy | Dependency (%) | Price  | Area | Service Cost | Lifespan |\n",
      "|                                   |       (KWh/year)       |                | (Euro) | (m²) | (Euro/year)  | (years)  |\n",
      "+-----------------------------------+------------------------+----------------+--------+------+--------------+----------+\n",
      "|  LG Neon 2 Bifacial LG415N2T L5   |        715.173         |     318.36     |  274   | 2.1  |      50      |    20    |\n",
      "|  LG Neon 2 Bifacial LG410N2T L5   |        1423.194        |     633.54     |  245   | 2.1  |      50      |    20    |\n",
      "|       SunPower SPR MAX3 390       |        2106.606        |     937.77     |  304   | 1.8  |      50      |    20    |\n",
      "|          Sharp NU AF370           |        2740.281        |    1219.85     |  145   | 1.9  |      50      |    20    |\n",
      "|       LG Neon R LG370Q1C V5       |        3385.391        |    1507.03     |  297   | 1.7  |      50      |    20    |\n",
      "|       Victron 215W 24V Mono       |        3815.698        |    1698.58     |  181   | 1.3  |      50      |    20    |\n",
      "|   Trina Honey M TSM 335DE06M.08   |        4392.45         |    1955.33     |  127   | 1.7  |      50      |    20    |\n",
      "|   Trina Honey M TSM 375DE08M.08   |        5042.454        |    2244.68     |  156   | 1.8  |      50      |    20    |\n",
      "|    LG Neon 2 Black LG325N1K V5    |        5602.685        |    2494.07     |  174   | 1.7  |      50      |    20    |\n",
      "|    Axitec AXIpower AC 275P 60S    |        6071.55         |    2702.79     |  114   | 1.6  |      50      |    20    |\n",
      "|   Axitec AXIpower AC 285PH 60S    |        6557.505        |    2919.12     |  126   | 1.7  |      50      |    20    |\n",
      "| Axitec AXIpremium AC 360M 156 72S |        7171.309        |    3192.36     |  177   | 1.9  |      50      |    20    |\n",
      "+-----------------------------------+------------------------+----------------+--------+------+--------------+----------+\n"
     ]
    }
   ],
   "source": [
    "PV_lst = ['PV_LG_Neon_2_Bifacial_LG415N2T_L5', 'PV_LG_Neon_2_Bifacial_LG410N2T_L5', 'PV_SunPower_SPR-MAX3-390',\n",
    "         'PV_Sharp_NU-AF370', 'PV_LG_Neon_R_LG370Q1C-V5', 'PV_Victron_215W-24V_Mono', 'PV_Trina_Honey_M_TSM-335DE06M.08',\n",
    "         'PV_Trina_Honey_M_TSM-375DE08M.08', 'PV_LG_Neon_2_Black_LG325N1K-V5', 'PV_Axitec_AXIpower_AC-275P/60S',\n",
    "         'PV_Axitec_AXIpower_AC-285PH/60S', 'PV_Axitec_AXIpremium_AC-360M/156-72S']\n",
    "\n",
    "transform_model_name = lambda s: s.replace('PV_', '').replace('_', ' ').replace('-', ' ').replace('/', ' ')\n",
    "\n",
    "headers = [\"PV Model\", \"Total Generated Energy\\n(KWh/year)\", \"Dependency (%)\", \"Price\\n(Euro)\", \"Area\\n(m²)\", \n",
    "           \"Service Cost\\n(Euro/year)\", \"Lifespan\\n(years)\"]\n",
    "table = list()\n",
    "\n",
    "# Add rows \n",
    "P_w_total = 0\n",
    "for model in PV_lst:\n",
    "    for i in range(len(irradiance_data)):\n",
    "        P_w_total += PV(model, irradiance_data['Clearsky GHI'][i], irradiance_data['Temperature'][i])['P']\n",
    "    table.append([transform_model_name(model),\n",
    "                  round(P_w_total,3), \n",
    "                  round((P_w_total / annual_energy_required) * 100, 2), \n",
    "                  PV(model, 0, 0)['price'], \n",
    "                  round(PV(model, 0, 0)['A'],1), \n",
    "                  PV(model, 0, 0)['service_cost'],\n",
    "                  PV(model, 0, 0)['lifespan']]) \n",
    "\n",
    "print(tabulate(table, headers, tablefmt=\"pretty\"))"
   ]
  },
  {
   "cell_type": "markdown",
   "id": "9ea9c229",
   "metadata": {},
   "source": [
    "<div style=\"background-color:#46a7af;\" id=\"wt\">\n",
    "    <code>Function WT (Wind Turbine)</code>\n",
    "</div>"
   ]
  },
  {
   "cell_type": "code",
   "execution_count": 19,
   "id": "c227b607",
   "metadata": {},
   "outputs": [],
   "source": [
    "def WT(M, WS):\n",
    "    # M: Model\n",
    "    # WS: Wind Speed\n",
    "    # AD: Air Density (kg/m³)\n",
    "    \n",
    "    if M == 'Wind_Turbine_Verdant_Power_Skystream_3.7':\n",
    "        link = 'https://skystreamturbines.com/'\n",
    "        # swept_area: Swept area of the turbine blade (m²)\n",
    "        swept_area = 0.37\n",
    "        # wind turbine efficiency\n",
    "        eff_wt = 0.3\n",
    "        # Power coefficient\n",
    "        power_coef = 0.35\n",
    "        # Rated wind speed: Turbine generate the highest power in this wind speed\n",
    "        rated_wind_speed = 12 # m/s\n",
    "        # Cut-in Wind Speed: Turbine won't generate the power in lower than this wind speed\n",
    "        cut_in_wind_speed = 3 # m/s\n",
    "        # Cut-out wind speed: Turbine shuts down in higher than this speed to protect itself from damage\n",
    "        cut_out_wind_speed = 25 # m/s\n",
    "        price = 1977 # Euro\n",
    "        service_cost = 90 # Euro per year\n",
    "        if WS >= cut_in_wind_speed and WS <= cut_out_wind_speed:\n",
    "            P = 0.5 * swept_area * (WS**3) * eff_wt * power_coef  # kWh\n",
    "        else:\n",
    "            P = 0\n",
    "    \n",
    "    if M == 'Wind_Turbine_Verdant_Power_Skystream_4.7':\n",
    "        link = 'https://skystreamturbines.com/'\n",
    "        # swept_area: Swept area of the turbine blade (m²)\n",
    "        swept_area = 0.67\n",
    "        # wind turbine efficiency\n",
    "        eff_wt = 0.3\n",
    "        # Power coefficient\n",
    "        power_coef = 0.35\n",
    "        # Rated wind speed: Turbine generate the highest power in this wind speed\n",
    "        rated_wind_speed = 12 # m/s\n",
    "        # Cut-in Wind Speed: Turbine won't generate the power in lower than this wind speed\n",
    "        cut_in_wind_speed = 3 # m/s\n",
    "        # Cut-out wind speed: Turbine shuts down in higher than this speed to protect itself from damage\n",
    "        cut_out_wind_speed = 25 # m/s\n",
    "        price = 3145 # Euro\n",
    "        service_cost = 135 # Euro per year\n",
    "        if WS >= cut_in_wind_speed and WS <= cut_out_wind_speed:\n",
    "            P = 0.5 * swept_area * (WS**3) * eff_wt * power_coef # kWh\n",
    "        else:\n",
    "            P = 0\n",
    "        \n",
    "    if M == 'Wind_Turbine_Verdant_Power_Skystream_6.7':\n",
    "        link = 'https://skystreamturbines.com/'\n",
    "        # swept_area: Swept area of the turbine blade (m²)\n",
    "        swept_area = 1\n",
    "        # wind turbine efficiency\n",
    "        eff_wt = 0.3\n",
    "        # Power coefficient\n",
    "        power_coef = 0.35\n",
    "        # Rated wind speed: Turbine generate the highest power in this wind speed\n",
    "        rated_wind_speed = 12 # m/s\n",
    "        # Cut-in Wind Speed: Turbine won't generate the power in lower than this wind speed\n",
    "        cut_in_wind_speed = 3 # m/s\n",
    "        # Cut-out wind speed: Turbine shuts down in higher than this speed to protect itself from damage\n",
    "        cut_out_wind_speed = 25 # m/s\n",
    "        price = 4493 # Euro\n",
    "        service_cost = 180 # Euro per year\n",
    "        \n",
    "        if WS >= cut_in_wind_speed and WS <= cut_out_wind_speed:\n",
    "            P = 0.5 * swept_area * (WS**3) * eff_wt * power_coef  # kWh\n",
    "        else:\n",
    "            P = 0\n",
    "    lifespan = 25 # years\n",
    "        \n",
    "    return {'P':P, 'service_cost':service_cost,'price':price, 'lifespan':lifespan}"
   ]
  },
  {
   "cell_type": "code",
   "execution_count": 20,
   "id": "6478999a",
   "metadata": {},
   "outputs": [
    {
     "name": "stdout",
     "output_type": "stream",
     "text": [
      "+-----------------------------+------------------------+----------------+--------------+-----------+--------------+----------+\n",
      "|     Wind Turbine Model      | Total Generated Energy | Dependency (%) | Price (Euro) | Area (m²) | Service Cost | Lifespan |\n",
      "|                             |       (KWh/year)       |                |              |           | (Euro/year)  | (years)  |\n",
      "+-----------------------------+------------------------+----------------+--------------+-----------+--------------+----------+\n",
      "| Verdant Power Skystream 3.7 |        1351.491        |     601.63     |     1977     |    30     |      90      |    25    |\n",
      "| Verdant Power Skystream 4.7 |        3798.784        |    1691.05     |     3145     |    30     |     135      |    25    |\n",
      "| Verdant Power Skystream 6.7 |        7451.461        |    3317.07     |     4493     |    30     |     180      |    25    |\n",
      "+-----------------------------+------------------------+----------------+--------------+-----------+--------------+----------+\n"
     ]
    }
   ],
   "source": [
    "transform_model_name = lambda s: s.replace('Wind_Turbine_', '').replace('_', ' ').replace('-', ' ').replace('/', ' ')\n",
    "\n",
    "wind_turbine_lst = ['Wind_Turbine_Verdant_Power_Skystream_3.7', 'Wind_Turbine_Verdant_Power_Skystream_4.7', \n",
    "          'Wind_Turbine_Verdant_Power_Skystream_6.7']\n",
    "\n",
    "# Specify the Column Names while initializing the Table \n",
    "headers = [\"Wind Turbine Model\", \"Total Generated Energy\\n(KWh/year)\", \"Dependency (%)\", \"Price (Euro)\", \n",
    "           \"Area (m²)\", \"Service Cost\\n(Euro/year)\", \"Lifespan\\n(years)\"]\n",
    "table = list()\n",
    "\n",
    "# Add rows \n",
    "P_total = 0\n",
    "for model in wind_turbine_lst:\n",
    "    for i in range(len(irradiance_data)):\n",
    "        P_total += WT(model, irradiance_data['Wind Speed'][i])['P']\n",
    "        \n",
    "    table.append([transform_model_name(model), \n",
    "                  round(P_total,3), \n",
    "                  round((P_total / annual_energy_required) * 100, 2),\n",
    "                  WT(model, 0)['price'], \n",
    "                  30,\n",
    "                  WT(model, 0)['service_cost'],\n",
    "                  WT(model, 0)['lifespan']]) \n",
    " \n",
    "print(tabulate(table, headers, tablefmt=\"pretty\"))"
   ]
  },
  {
   "cell_type": "markdown",
   "id": "5e7cfa0a",
   "metadata": {},
   "source": [
    "<br>\n",
    "Additionally, a rainwater collection system was included as an alternative, with specifications outlined in the below:\n",
    "<br>"
   ]
  },
  {
   "cell_type": "markdown",
   "id": "09de153e",
   "metadata": {},
   "source": [
    "<div style=\"background-color:#46a7af;\" id=\"def_rainwater\">\n",
    "    <code>Function collect_rain_water</code>\n",
    "</div>"
   ]
  },
  {
   "cell_type": "code",
   "execution_count": 21,
   "id": "e450ef4e",
   "metadata": {},
   "outputs": [],
   "source": [
    "def collect_rain_water(annual_precipitation : float, area: int) -> dict:\n",
    "    \n",
    "    # Investment Cost:\n",
    "    investment_cost = 10000 # Euro\n",
    "    \n",
    "    # Service Cost per year:\n",
    "    service_cost = 300 # Euro\n",
    "        \n",
    "    # Calculate the catchment area of the farm\n",
    "    catchment_area = area  # square meters\n",
    "    \n",
    "    # Calculate the average runoff coefficient for the catchment area\n",
    "    # runoff_coefficient = 0.6  # dimensionles\n",
    "    \n",
    "    # Calculate the depth of the rainwater harvesting system\n",
    "    #depth = 0.5  # meters\n",
    "    \n",
    "    # Calculate the potential amount of rainwater collected (liters per week)\n",
    "    #return weekly_rainfall['precip'][step_number] * catchment_area * runoff_coefficient * depth\n",
    "    \n",
    "    # required area to install related devices such as storage tank, pumping and filteration system and etc.\n",
    "    area = 8 # square meters\n",
    "    \n",
    "    # lifespan:\n",
    "    lifespan = 30 # years\n",
    "    \n",
    "    # Annual Rainwater Harvesting Capacity in liters/year\n",
    "    annual_harvesting = annual_precipitation * catchment_area\n",
    "    \n",
    "    return {'annual_harvesting':annual_harvesting, 'investment_cost': investment_cost, 'service_cost':service_cost,\n",
    "            'area':area, 'lifespan':lifespan}"
   ]
  },
  {
   "cell_type": "code",
   "execution_count": 22,
   "id": "ebb957f3",
   "metadata": {},
   "outputs": [
    {
     "name": "stdout",
     "output_type": "stream",
     "text": [
      "+---------------------+-----------+----------------+-----------------+--------------+---------------+----------+\n",
      "|        Model        | Capacity  | Dependency (%) | Investment Cost | Service Cost | Required Area | Lifespan |\n",
      "|                     | (m³/year) |                |     (Euro)      |    (Euro)    |     (m²)      | (years)  |\n",
      "+---------------------+-----------+----------------+-----------------+--------------+---------------+----------+\n",
      "| Greanhose Rainwater |   249.4   |     157.77     |      10000      |     300      |       8       |    30    |\n",
      "|  Harvesting System  |           |                |                 |              |               |          |\n",
      "+---------------------+-----------+----------------+-----------------+--------------+---------------+----------+\n"
     ]
    }
   ],
   "source": [
    "# the average amount of annual precipitation in Genova:\n",
    "annual_precipitation = 1247 # millimeters/square meter/year\n",
    "area = growing_area\n",
    "\n",
    "headers = ['Model', \"Capacity\\n(m³/year)\", \"Dependency (%)\", \"Investment Cost\\n(Euro)\", \"Service Cost\\n(Euro)\",\n",
    "          \"Required Area\\n(m²)\", 'Lifespan\\n(years)']\n",
    "\n",
    "table = [[\"Greanhose Rainwater\\nHarvesting System\",\n",
    "        collect_rain_water(annual_precipitation, area)['annual_harvesting']/1000,\n",
    "        round(collect_rain_water(annual_precipitation, area)['annual_harvesting']/1000/annual_water_required*100, 2),\n",
    "        collect_rain_water(annual_precipitation, area)['investment_cost'],\n",
    "        collect_rain_water(annual_precipitation, area)['service_cost'],\n",
    "        collect_rain_water(annual_precipitation, area)['area'],\n",
    "        collect_rain_water(annual_precipitation, area)['lifespan']]]\n",
    "\n",
    "\n",
    "print(tabulate(table, headers, tablefmt=\"pretty\"))"
   ]
  },
  {
   "cell_type": "markdown",
   "id": "ff365792",
   "metadata": {},
   "source": [
    "After careful analysis, three viable alternatives were selected for further consideration: \n",
    "\n",
    "<b>PV (LG Neon 2 Bifacial LG415N2T L5):</b> This high-efficiency PV system utilizes bifacial technology to capture sunlight from both the front and back of the panels, maximizing energy production. \n",
    "\n",
    "<figure>\n",
    "  <img src=\"images/pv.jpg\" alt=\"LG Neon 2 Bifacial LG415N2T L5\" width=\"250\" height=\"300\">\n",
    "  <figcaption style=\"text-align: center; padding: 2px; font-style: italic;\">LG Neon 2 Bifacial LG415N2T L5</figcaption>\n",
    "</figure>\n",
    "\n",
    "<b>Wind Turbine (Verdant Power Skystream 3.7):</b> This compact and efficient wind turbine is specifically designed for residential and small-scale commercial applications, delivering reliable energy even in low-wind environments. \n",
    "\n",
    "<figure>\n",
    "  <img src=\"images/wt.jpg\" alt=\"Verdant Power Skystream 3.7 \" width=\"200\" height=\"300\">\n",
    "  <figcaption style=\"text-align: center; padding: 2px; font-style: italic;\">Verdant Power Skystream 3.7</figcaption>\n",
    "</figure>\n",
    "\n",
    "<b>Rainwater Harvesting System:</b> This sustainable approach captures rainwater from roofs and other surfaces, providing a valuable source of water for irrigation and other agricultural needs. \n",
    "\n",
    "<figure>\n",
    "  <img src=\"images/rainwater.jpg\" alt=\"Rainwater Harvesting System\" width=\"250\" height=\"300\">\n",
    "  <figcaption style=\"text-align: center; padding: 2px; font-style: italic;\">Rainwater Harvesting System</figcaption>\n",
    "</figure>\n",
    "\n",
    "These three alternatives represent promising solutions for meeting the energy and water needs of the urban farm, offering flexibility and adaptability to varying climatic conditions and resource availability. A thorough assessment of each alternative, considering factors such as initial investment costs, operational expenses, energy and water output, and environmental impact, will be crucial in making an informed decision. "
   ]
  },
  {
   "cell_type": "markdown",
   "id": "71c46dd0",
   "metadata": {},
   "source": [
    "<div style=\"background-color:#a7af46;\" id=\"criteria\">\n",
    "<center><h2 style=\"font-family:Lucida Bright\">Criteria Definition </h2></center><br>\n",
    "</div>"
   ]
  },
  {
   "cell_type": "markdown",
   "id": "6fd7f33b",
   "metadata": {},
   "source": [
    "<ul>\n",
    "    <li><b>Cost investment</b></li>\n",
    "<li><b>Sustainability with respect to SDGs</b></li>\n",
    "<li><b>Lifespan</b></li>\n",
    "<li><b>Self-sufficiency:</b> To what extent can each alternative help the urban farm to meet its own energy needs?</li>\n",
    "<li><b>Ease of installation and maintenance:</b> How easy is each alternative to install and maintain? </li>\n",
    "<li><b>Integration with existing infrastructure:</b> This criterion assesses the ease of integrating each option with the existing infrastructure of the urban farm, including electrical panels, irrigation systems, and storage facilities. Smooth integration minimizes disruptions and optimizes resource utilization. </li>\n",
    "<li><b>Regulatory compliance:</b> This criterion assesses whether each option complies with relevant environmental regulations and permits. Compliance is crucial to ensure the sustainable and responsible operation of the energy and water systems. </li>\n",
    "<li><b>Required Area for Installation</b></li>\n",
    "</ul>\n",
    "\n",
    "<figure>\n",
    "  <img src=\"images/sdgs.png\" alt=\"Sustainable Development Goals\" width=\"600\" height=\"300\">\n",
    "  <figcaption style=\"text-align: center; padding: 2px; font-style: italic;\">Sustainable Development Goals</figcaption>\n",
    "</figure>"
   ]
  },
  {
   "cell_type": "markdown",
   "id": "4758a4c6",
   "metadata": {},
   "source": [
    "<div style=\"background-color:#a7af46;\" id=\"decision_tools\">\n",
    "<center><h2 style=\"font-family:Lucida Bright\">Selection of decision-making tools</h2></center><br>\n",
    "</div>"
   ]
  },
  {
   "cell_type": "markdown",
   "id": "4c2b814c",
   "metadata": {},
   "source": [
    "In order to measure the direct benefits of each alternative in financial terms, the Cost Benefit Analysis (BCA) methodology, including Net Present Value (NPV), Internal Rate of Return (IRR), Payback Period (PP), and Benefit Cost Ratio (BCR), was utilized. \n",
    "\n",
    "Additionally, for criteria that entail indirect benefits and allow for compensation among them, the Analytic Hierarchy Process (AHP) method from Multi-Criteria Analysis (MCA) was employed. "
   ]
  },
  {
   "cell_type": "markdown",
   "id": "73ebaa46",
   "metadata": {},
   "source": [
    "<div style=\"background-color:#46a7af;\" id=\"cashflow\">\n",
    "    <code>Function CashFlow</code>\n",
    "</div>"
   ]
  },
  {
   "cell_type": "code",
   "execution_count": 23,
   "id": "a97e48f6",
   "metadata": {},
   "outputs": [],
   "source": [
    "def CashFlow(investment_cost, service_cost, annual_energy_generated, annual_water_collected):\n",
    "    water_cost = 0.002 # Euro per liter\n",
    "    electricity_cost = 0.2 # Euro per kilowatt-hour (kWh)\n",
    "    \n",
    "    el_cost = (annual_energy_required - annual_energy_generated) * electricity_cost * 0.7 \\\n",
    "                if annual_energy_generated >= annual_energy_required else \\\n",
    "                        (annual_energy_required - annual_energy_generated) * electricity_cost # Euro\n",
    "    \n",
    "    w_cost = (annual_water_required - annual_water_collected) * water_cost * 0.7 \\\n",
    "                if annual_water_collected >= annual_water_required else \\\n",
    "                        (annual_water_required - annual_water_collected) * water_cost # Euro\n",
    "\n",
    "    net_cash_flow = round(annual_revenue - el_cost - w_cost - annual_operational_cost - service_cost, 2) # Euro\n",
    "    \n",
    "    return [-investment_cost, net_cash_flow, net_cash_flow, net_cash_flow, net_cash_flow, net_cash_flow]"
   ]
  },
  {
   "cell_type": "markdown",
   "id": "ec9000ca",
   "metadata": {},
   "source": [
    "<div style=\"background-color:#46a7af;\" id=\"bcr\">\n",
    "    <code>Function BCR</code>\n",
    "</div>"
   ]
  },
  {
   "cell_type": "code",
   "execution_count": 25,
   "id": "84582a6c",
   "metadata": {},
   "outputs": [],
   "source": [
    "def BCR(discount_rate, cash_flow):\n",
    "    discounted = 0\n",
    "    for i in range(1, len(cash_flow)):\n",
    "        discounted += cash_flow[i]/(1 + discount_rate)**i\n",
    "    return round(discounted / abs(cash_flow[0]), 2)"
   ]
  },
  {
   "cell_type": "markdown",
   "id": "1ca109ac",
   "metadata": {},
   "source": [
    "<div style=\"background-color:#a7af46;\" id=\"cba_1\">\n",
    "<center><h2 style=\"font-family:Lucida Bright\">Cost Benefit Analysis for Alternative 1: PV</h2></center><br>\n",
    "</div>"
   ]
  },
  {
   "cell_type": "markdown",
   "id": "7635013c",
   "metadata": {},
   "source": [
    "#### Cash Flow:"
   ]
  },
  {
   "cell_type": "code",
   "execution_count": 41,
   "id": "44b292b9",
   "metadata": {},
   "outputs": [
    {
     "name": "stdout",
     "output_type": "stream",
     "text": [
      "\n",
      " 5 years cashflow for alternative 1 =  [-700, 1028.2, 1028.2, 1028.2, 1028.2, 1028.2] \n",
      "\n"
     ]
    }
   ],
   "source": [
    "device_price = 274 # Euro\n",
    "other_cost = 426 # Euro\n",
    "investment_cost = device_price + other_cost # Euro\n",
    "service_cost = 50 # Euro\n",
    "annual_energy_generated = 715.173 # kWh/year\n",
    "annual_water_collected = 0\n",
    "cash_flow_alt_1 = CashFlow(investment_cost, service_cost, annual_energy_generated, annual_water_collected)\n",
    "print(\"\\n\", \"5 years cashflow for alternative 1 = \", cash_flow_alt_1, \"\\n\")"
   ]
  },
  {
   "cell_type": "markdown",
   "id": "c156fb0a",
   "metadata": {},
   "source": [
    "#### NPV (Net Present Value):"
   ]
  },
  {
   "cell_type": "code",
   "execution_count": 42,
   "id": "05aafd1e",
   "metadata": {},
   "outputs": [
    {
     "data": {
      "text/plain": [
       "3631.15"
      ]
     },
     "execution_count": 42,
     "metadata": {},
     "output_type": "execute_result"
    }
   ],
   "source": [
    "discount_rate = 0.06\n",
    "round(npf.npv(discount_rate, cash_flow_alt_1), 2)"
   ]
  },
  {
   "cell_type": "markdown",
   "id": "858b4014",
   "metadata": {},
   "source": [
    "#### IRR (Internal Rate of Return):"
   ]
  },
  {
   "cell_type": "code",
   "execution_count": 43,
   "id": "78ad9bd9",
   "metadata": {},
   "outputs": [
    {
     "name": "stdout",
     "output_type": "stream",
     "text": [
      "1.45 %\n"
     ]
    }
   ],
   "source": [
    "print(round(npf.irr(cash_flow_alt_1),2), \"%\")"
   ]
  },
  {
   "cell_type": "markdown",
   "id": "f3f56198",
   "metadata": {},
   "source": [
    "#### PP (Payback Period):"
   ]
  },
  {
   "cell_type": "code",
   "execution_count": 44,
   "id": "52ec5471",
   "metadata": {},
   "outputs": [
    {
     "name": "stdout",
     "output_type": "stream",
     "text": [
      "0.3 years\n"
     ]
    }
   ],
   "source": [
    "print(round(274/cash_flow_alt_1[1],1),\"years\")"
   ]
  },
  {
   "cell_type": "markdown",
   "id": "78b9dbca",
   "metadata": {},
   "source": [
    "#### BCR (Benefit-Cost Ratio):"
   ]
  },
  {
   "cell_type": "code",
   "execution_count": 45,
   "id": "7d89777b",
   "metadata": {},
   "outputs": [
    {
     "data": {
      "text/plain": [
       "6.19"
      ]
     },
     "execution_count": 45,
     "metadata": {},
     "output_type": "execute_result"
    }
   ],
   "source": [
    "BCR(0.06, cash_flow_alt_1)"
   ]
  },
  {
   "cell_type": "markdown",
   "id": "b36c0589",
   "metadata": {},
   "source": [
    "<div style=\"background-color:#a7af46;\" id=\"cba_2\">\n",
    "<center><h2 style=\"font-family:Lucida Bright\">Cost Benefit Analysis for Alternative 2: Wind Turbine</h2></center><br>\n",
    "</div>"
   ]
  },
  {
   "cell_type": "markdown",
   "id": "b86461a6",
   "metadata": {},
   "source": [
    "#### Cash Flow:"
   ]
  },
  {
   "cell_type": "code",
   "execution_count": 46,
   "id": "825963e2",
   "metadata": {},
   "outputs": [
    {
     "name": "stdout",
     "output_type": "stream",
     "text": [
      "\n",
      " 5 years cashflow for alternative 2 =  [-2727, 1077.28, 1077.28, 1077.28, 1077.28, 1077.28] \n",
      "\n"
     ]
    }
   ],
   "source": [
    "device_price = 1977 # Euro\n",
    "other_cost = 750 # Euro\n",
    "investment_cost = device_price + other_cost # Euro\n",
    "service_cost = 90 # Euro\n",
    "annual_energy_generated = 1351.491 # kWh/year\n",
    "annual_water_collected = 0\n",
    "cash_flow_alt_2 = CashFlow(investment_cost, service_cost, annual_energy_generated, annual_water_collected)\n",
    "print(\"\\n\", \"5 years cashflow for alternative 2 = \", cash_flow_alt_2, \"\\n\")"
   ]
  },
  {
   "cell_type": "markdown",
   "id": "cc0d5c51",
   "metadata": {},
   "source": [
    "#### NPV (Net Present Value):"
   ]
  },
  {
   "cell_type": "code",
   "execution_count": 47,
   "id": "562935fc",
   "metadata": {},
   "outputs": [
    {
     "data": {
      "text/plain": [
       "1810.9"
      ]
     },
     "execution_count": 47,
     "metadata": {},
     "output_type": "execute_result"
    }
   ],
   "source": [
    "discount_rate = 0.06\n",
    "round(npf.npv(discount_rate, cash_flow_alt_2), 2)"
   ]
  },
  {
   "cell_type": "markdown",
   "id": "253aa7c6",
   "metadata": {},
   "source": [
    "#### IRR (Internal Rate of Return):"
   ]
  },
  {
   "cell_type": "code",
   "execution_count": 48,
   "id": "ded8eb58",
   "metadata": {},
   "outputs": [
    {
     "name": "stdout",
     "output_type": "stream",
     "text": [
      "0.28 %\n"
     ]
    }
   ],
   "source": [
    "print(round(npf.irr(cash_flow_alt_2),2), \"%\")"
   ]
  },
  {
   "cell_type": "markdown",
   "id": "dafa0274",
   "metadata": {},
   "source": [
    "#### PP (Payback Period):"
   ]
  },
  {
   "cell_type": "code",
   "execution_count": 49,
   "id": "70b44ab8",
   "metadata": {},
   "outputs": [
    {
     "name": "stdout",
     "output_type": "stream",
     "text": [
      "1.8 years\n"
     ]
    }
   ],
   "source": [
    "print(round(1977/cash_flow_alt_2[1],1), \"years\")"
   ]
  },
  {
   "cell_type": "markdown",
   "id": "d8c94b05",
   "metadata": {},
   "source": [
    "#### BCR (Benefit-Cost Ratio):"
   ]
  },
  {
   "cell_type": "code",
   "execution_count": 50,
   "id": "da6c07a3",
   "metadata": {},
   "outputs": [
    {
     "data": {
      "text/plain": [
       "1.66"
      ]
     },
     "execution_count": 50,
     "metadata": {},
     "output_type": "execute_result"
    }
   ],
   "source": [
    "BCR(0.06, cash_flow_alt_2)"
   ]
  },
  {
   "cell_type": "markdown",
   "id": "bfab372a",
   "metadata": {},
   "source": [
    "<div style=\"background-color:#a7af46;\" id=\"cba_3\">\n",
    "<center><h2 style=\"font-family:Lucida Bright\">Cost Benefit Analysis for Alternative 3: Rainwater Harvesting System</h2></center><br>\n",
    "</div>"
   ]
  },
  {
   "cell_type": "markdown",
   "id": "6725f5a9",
   "metadata": {},
   "source": [
    "#### Cash Flow:"
   ]
  },
  {
   "cell_type": "code",
   "execution_count": 51,
   "id": "8118ef07",
   "metadata": {},
   "outputs": [
    {
     "name": "stdout",
     "output_type": "stream",
     "text": [
      "\n",
      " 5 years cashflow for alternative 3 =  [-10000, 665.04, 665.04, 665.04, 665.04, 665.04] \n",
      "\n"
     ]
    }
   ],
   "source": [
    "investment_cost = 10000 # Euro\n",
    "service_cost = 300 # Euro\n",
    "annual_energy_generated = 0 # kWh/year\n",
    "annual_water_collected = 249.4 # m³/year\n",
    "cash_flow_alt_3 = CashFlow(investment_cost, service_cost, annual_energy_generated, annual_water_collected)\n",
    "print(\"\\n\", \"5 years cashflow for alternative 3 = \", cash_flow_alt_3, \"\\n\")"
   ]
  },
  {
   "cell_type": "markdown",
   "id": "ff83ad44",
   "metadata": {},
   "source": [
    "#### NPV (Net Present Value):"
   ]
  },
  {
   "cell_type": "code",
   "execution_count": 52,
   "id": "50f09d5a",
   "metadata": {},
   "outputs": [
    {
     "data": {
      "text/plain": [
       "-7198.61"
      ]
     },
     "execution_count": 52,
     "metadata": {},
     "output_type": "execute_result"
    }
   ],
   "source": [
    "discount_rate = 0.06\n",
    "round(npf.npv(discount_rate, cash_flow_alt_3), 2)"
   ]
  },
  {
   "cell_type": "markdown",
   "id": "4134611b",
   "metadata": {},
   "source": [
    "#### IRR (Internal Rate of Return):"
   ]
  },
  {
   "cell_type": "code",
   "execution_count": 53,
   "id": "50f4e0f3",
   "metadata": {},
   "outputs": [
    {
     "name": "stdout",
     "output_type": "stream",
     "text": [
      "-0.28 %\n"
     ]
    }
   ],
   "source": [
    "print(round(npf.irr(cash_flow_alt_3),2), \"%\")"
   ]
  },
  {
   "cell_type": "markdown",
   "id": "3670f4c1",
   "metadata": {},
   "source": [
    "#### PP (Payback Period):"
   ]
  },
  {
   "cell_type": "code",
   "execution_count": 54,
   "id": "bf3064d0",
   "metadata": {},
   "outputs": [
    {
     "name": "stdout",
     "output_type": "stream",
     "text": [
      "15.0 years\n"
     ]
    }
   ],
   "source": [
    "print(round(10000/cash_flow_alt_3[1],1), \"years\")"
   ]
  },
  {
   "cell_type": "markdown",
   "id": "7a044f04",
   "metadata": {},
   "source": [
    "#### BCR (Benefit-Cost Ratio):"
   ]
  },
  {
   "cell_type": "code",
   "execution_count": 55,
   "id": "f31d9a69",
   "metadata": {},
   "outputs": [
    {
     "data": {
      "text/plain": [
       "0.28"
      ]
     },
     "execution_count": 55,
     "metadata": {},
     "output_type": "execute_result"
    }
   ],
   "source": [
    "BCR(0.06, cash_flow_alt_3)"
   ]
  },
  {
   "cell_type": "markdown",
   "id": "83ca80b9",
   "metadata": {},
   "source": [
    "<div style=\"background-color:#a7af46;\" id=\"ahp\">\n",
    "<center><h2 style=\"font-family:Lucida Bright\">Analytic Hierarchy Process (AHP)</h2></center><br>\n",
    "</div>"
   ]
  },
  {
   "cell_type": "markdown",
   "id": "aa76a6ee",
   "metadata": {},
   "source": [
    "<p>To apply the Analytic Hierarchy Process method, a pairwise comparison matrix was prepared by the decision-maker and professionals in the field. The consistency of the matrix was then verified, and the results are displayed in the table below. The Composite Weights of each option were determined, and a final ranking was assigned to each option. You can find more detail information about AHP for this project in attached excel file.</p></br>\n",
    "\n",
    "<figure>\n",
    "  <img src=\"images/pairwise comparison matrix.jpg\" alt=\"pairwise comparison matrix\" width=\"550\" height=\"300\">\n",
    "  <figcaption style=\"text-align: center; padding: 2px; font-style: italic;\">Pair-wise Comparison Matrix</figcaption>\n",
    "</figure>\n",
    "</br>\n",
    "<figure>\n",
    "  <img src=\"images/normalized pairwise comparison matrix.jpg\" alt=\"normalized pairwise comparison matrix\" width=\"550\" height=\"300\">\n",
    "  <figcaption style=\"text-align: center; padding: 2px; font-style: italic;\">Normalized Pair-wise Comparison Matrix</figcaption>\n",
    "</figure>\n"
   ]
  },
  {
   "cell_type": "markdown",
   "id": "4ee6a6cc",
   "metadata": {},
   "source": [
    "<div style=\"background-color:#a7af46;\" id=\"evaluation\">\n",
    "<center><h2 style=\"font-family:Lucida Bright\">Evaluation Alternatives Against Criteria</h2></center><br>\n",
    "</div>"
   ]
  },
  {
   "cell_type": "markdown",
   "id": "1aba52f9",
   "metadata": {},
   "source": [
    "<p>A Cost Benefit Analysis (CBA) was conducted individually for each option, and the results are presented in the corresponding table. Assuming the greenhouse can sell excess energy generated to the grid at 60% of the purchase price and also sell excess stored water to other urban greenhouses at 60% of the purchase price.</p></br>\n",
    "\n",
    "<figure>\n",
    "  <img src=\"images/ahp_results.jpg\" alt=\"Results from AHP\" width=\"850\" height=\"300\">\n",
    "  <figcaption style=\"text-align: center; padding: 2px; font-style: italic;\">Results from AHP</figcaption>\n",
    "</figure>\n",
    "</br>\n",
    "<figure>\n",
    "  <img src=\"images/ahp_graph.jpg\" alt=\"AHP Ranks\" width=\"350\" height=\"300\">\n",
    "  <figcaption style=\"text-align: center; padding: 2px; font-style: italic;\">AHP Ranks</figcaption>\n",
    "</figure>\n",
    "</br>\n",
    "<figure>\n",
    "  <img src=\"images/results.jpg\" alt=\"Comparing Results of CBA and MCA\" width=\"850\" height=\"300\">\n",
    "  <figcaption style=\"text-align: center; padding: 2px; font-style: italic;\">Comparing Results of CBA and MCA</figcaption>\n",
    "</figure>"
   ]
  },
  {
   "cell_type": "markdown",
   "id": "c3ed133b",
   "metadata": {},
   "source": [
    "<div style=\"background-color:#a7af46;\" id=\"validation\">\n",
    "<center><h2 style=\"font-family:Lucida Bright\">Validation Solutions Against Problem Statement</h2></center><br>\n",
    "</div>"
   ]
  },
  {
   "cell_type": "markdown",
   "id": "4d121af3",
   "metadata": {},
   "source": [
    "Based on the results obtained from both the Cost Benefit Analysis and Analytic Hierarchy Process, it can be concluded that the installation of photovoltaic panels is determined to be the optimal option for investment in this greenhouse. As a result, all desired criteria are met. \n",
    "\n",
    "While a standalone photovoltaic panel system, with an initial investment of 274 euros, may seem attractive, it does not provide a sustainable competitive advantage. As Michael Porter aptly observes, the barriers to entry in this market are relatively low, making it easy for new competitors to replicate this approach. \n",
    "\n",
    "Nevertheless, considering the greenhouse's land area of 800 square meters, it possesses the potential to expand its production scale up to four times its current capacity once it establishes itself as an environmentally sustainable greenhouse in the market. Furthermore, it has the opportunity to secure loans and government support for cultivating sustainable crops. \n",
    "\n",
    "Consequently, the decision-maker has been advised to invest in a combination of photovoltaic panels and a rainwater harvesting system. This strategic move will enable the greenhouse to transition to a Product Development strategy in the future, cultivating a variety of crops with a higher profit margin. The following table presents the results of the Cost Benefit Analysis for the 800-square-meter production capacity. \n",
    "\n",
    "</br>\n",
    "<figure>\n",
    "  <img src=\"images/hybrid.jpg\" alt=\"CBA for 800-square-meter production capacity \" width=\"650\" height=\"300\">\n",
    "  <figcaption style=\"text-align: center; padding: 2px; font-style: italic;\">CBA for 800-square-meter production capacity </figcaption>\n",
    "</figure>\n",
    "\n"
   ]
  },
  {
   "cell_type": "markdown",
   "id": "81a001f8",
   "metadata": {},
   "source": [
    "<div style=\"background-color:#a7af46;\" id=\"wbs\"><br>\n",
    "<center><h1 style=\"font-family:Lucida Bright\">WBS & Gantt Chart</h1></center><br><br>\n",
    "</div>"
   ]
  },
  {
   "cell_type": "markdown",
   "id": "b9314897",
   "metadata": {},
   "source": [
    "To effectively manage and track the project's progress, we employed a comprehensive Work Breakdown Structure (WBS) and a visual Gantt chart. The WBS meticulously breaks down the project into six distinct phases: Research and Planning, Procurement, Installation, Testing and Commissioning, Documentation, and Project Closure. Each phase encompasses several deliverables, which in turn are further decomposed into granular tasks. The WBS clearly identifies the predecessor dependencies for each task, assigning a specific start time and estimated duration. Additionally, a cost estimate has been attached to each task, and the required resources have been defined. The corresponding Gantt chart provides a visual representation of the project timeline, highlighting the task dependencies, start and end dates, and resource allocation. This visual representation facilitates the identification of potential scheduling conflicts and enables effective monitoring of project progress. The WBS and Gantt chart are attached within the provided Excel file for reference. "
   ]
  },
  {
   "cell_type": "markdown",
   "id": "80eb4fa6",
   "metadata": {},
   "source": [
    "<div style=\"background-color:#a7af46;\" id=\"cpm\"><br>\n",
    "<center><h1 style=\"font-family:Lucida Bright\">Critical Path Method (CPM)</h1></center><br><br>\n",
    "</div>"
   ]
  },
  {
   "cell_type": "markdown",
   "id": "9d8782f3",
   "metadata": {},
   "source": [
    "A project management technique used to identify the longest sequence of tasks in a project that determines the minimum possible project duration. The critical path is crucial for understanding the project's critical constraints and ensuring that the project is completed on time. To draw the network diagram for this project, the <a href=\"https://networkx.org/\">NetworkX</a> package in Python was employed. To define the CPM, the <a href=\"https://pypi.org/project/criticalpath/\">criticalpath</a> package in Python was employed. "
   ]
  },
  {
   "cell_type": "markdown",
   "id": "ccfe4515",
   "metadata": {},
   "source": [
    "<div style=\"background-color:#46a7af;\" id=\"network\">\n",
    "    <code>Class NetworkDiagram</code>\n",
    "</div>"
   ]
  },
  {
   "cell_type": "code",
   "execution_count": 61,
   "id": "b3fe6d68",
   "metadata": {},
   "outputs": [],
   "source": [
    "class NetworkDiagram():\n",
    "    def __init__(self, tasks, dependencies, positions):\n",
    "        self.tasks = tasks\n",
    "        self.dependencies = dependencies\n",
    "        self.positions = positions\n",
    "        # initialize (directed) graph\n",
    "        self.G = nx.DiGraph() \n",
    "        \n",
    "        # add tasks and dependencies (edges)\n",
    "        self.G.add_nodes_from(self.tasks)\n",
    "        self.G.add_edges_from(self.dependencies)\n",
    "        \n",
    "    def draw_network_diagram(self):\n",
    "        # draw nodes\n",
    "        nx.draw(self.G, with_labels=True, pos = self.positions, node_color='lightblue', arrowsize=10, \n",
    "                node_size=150, font_size=8, node_shape=\"s\")\n",
    "        \n",
    "        # set up the (arbitrary) positions of the durations labels (attributes):\n",
    "        pos_attrs = {node:(coord[0], coord[1] + 0.2) for node, coord in self.positions.items()}\n",
    "        attrs = nx.get_node_attributes(self.G, 'Duration')\n",
    "        \n",
    "        # draw (write) the node attributes (duration)\n",
    "        nx.draw_networkx_labels(self.G, pos=pos_attrs, labels=attrs, font_size=8, font_color='g')\n",
    "    \n",
    "        # set a little margin (padding) for the graph so the labels are not cut off\n",
    "        plt.margins(0.01)\n",
    "        \n",
    "    def define_critical_path(self):\n",
    "        # initialize a \"project\":\n",
    "        self.proj = Node('Project')\n",
    "        # load the tasks and their durations:\n",
    "        for t in self.tasks:\n",
    "            self.proj.add(Node(t[0], duration=t[1][\"Duration\"])) # (name of the node, access the duration field of the object)\n",
    "\n",
    "        # load the dependencies (or sequence):\n",
    "        for d in self.dependencies:\n",
    "            self.proj.link(d[0],d[1])\n",
    "\n",
    "        # update the \"project\":\n",
    "        self.proj.update_all()\n",
    "\n",
    "        # proj.get_critical_path() will return a list of nodes\n",
    "        # however, we want to store them as strings so that they can be easily used for visualization later\n",
    "        crit_path = [str(n) for n in self.proj.get_critical_path()]\n",
    "        \n",
    "        return crit_path\n",
    "\n",
    "    def draw_critical_path_diagram(self):\n",
    "        self.crit_path = self.define_critical_path()\n",
    "        # create a list of edges using the current critical path list:\n",
    "        crit_edges = [(n, self.crit_path[i+1]) for i, n in enumerate(self.crit_path[:-1])] \n",
    "        self.draw_network_diagram()\n",
    "        # now add the critical path as an additional layer on top of the original graph:\n",
    "        nx.draw_networkx_edges(self.G, pos=pos_nodes, edgelist=crit_edges, width=8, alpha=0.5, edge_color='r')\n",
    "        # set a little margin (padding) for the graph so the labels are not cut off\n",
    "        plt.margins(0.01)\n",
    "        \n",
    "    def define_project_schedule(self):\n",
    "        # initialize a \"project\":\n",
    "        self.proj = Node('Project')\n",
    "        # load the tasks and their durations:\n",
    "        for t in self.tasks:\n",
    "            self.proj.add(Node(t[0], duration=t[1][\"Duration\"])) # (name of the node, access the duration field of the object)\n",
    "\n",
    "        # load the dependencies (or sequence):\n",
    "        for d in self.dependencies:\n",
    "            self.proj.link(d[0],d[1])\n",
    "\n",
    "        # update the \"project\":\n",
    "        self.proj.update_all()\n",
    "\n",
    "        # proj.get_critical_path() will return a list of nodes\n",
    "        # however, we want to store them as strings so that they can be easily used for visualization later\n",
    "        crit_path = [str(n) for n in self.proj.get_critical_path()]\n",
    "        \n",
    "        proj_startdate = date(2024, 1, 1)\n",
    "\n",
    "        proj_schedule = pd.DataFrame([dict(Task=key,\n",
    "                                               Start=proj_startdate,\n",
    "                                               Finish=proj_startdate + timedelta(int(val['Duration'])),\n",
    "                                               Status='NA')\n",
    "                                          for key, val in dict(self.tasks).items()])\n",
    "\n",
    "        for key, val in dict(self.tasks).items():\n",
    "            prev_tasks = [d[0] for d in self.dependencies if d[1] == key]\n",
    "            if prev_tasks:\n",
    "                prev_finish = proj_schedule[proj_schedule.Task.isin(prev_tasks)]['Finish'].max()\n",
    "                proj_schedule.loc[proj_schedule.Task == key, 'Start'] = prev_finish\n",
    "                proj_schedule.loc[proj_schedule.Task == key, 'Finish'] = prev_finish + timedelta(int(val['Duration']))\n",
    "\n",
    "        proj_schedule.loc[proj_schedule.Task.isin(crit_path), 'Status'] = 'Critical Path'\n",
    "        \n",
    "        proj_duration = self.proj.duration\n",
    "        \n",
    "        return proj_schedule, proj_duration\n",
    "    \n",
    "    def show_project_schedule(self):\n",
    "        self.poj_schedule, self.proj_duration = self.define_project_schedule()\n",
    "        print()\n",
    "        print(f\"Current Project Duration = {self.proj_duration} days\",'\\n')\n",
    "        display(self.poj_schedule)\n",
    "    \n",
    "    \n",
    "    def plot_project_schedule(self):\n",
    "        self.proj_schedule, _ = self.define_project_schedule()\n",
    "        fig = px.timeline(self.proj_schedule, x_start=\"Start\", x_end=\"Finish\", y=\"Task\", color=\"Status\") # by plotly.express\n",
    "        fig.update_yaxes(autorange=\"reversed\") # otherwise tasks are listed from the bottom up\n",
    "        display(Image(fig.to_image(format=\"png\"))) "
   ]
  },
  {
   "cell_type": "code",
   "execution_count": 62,
   "id": "7aa40413",
   "metadata": {},
   "outputs": [],
   "source": [
    "# Create a dataframe from work breakdown structure in excel\n",
    "df = pd.read_excel('files/Strategic Program.xlsx', sheet_name = 'Sheet1')"
   ]
  },
  {
   "cell_type": "code",
   "execution_count": 63,
   "id": "13c884c4",
   "metadata": {},
   "outputs": [],
   "source": [
    "# create a list of the tasks and make shorter their wbs ID by removing dots.\n",
    "tasks = list()\n",
    "for i in range(len(df)):\n",
    "    tasks.append((re.sub(r\"\\.\", \"\", df['WBS'][i]), {\"Duration\":df['DAYS'][i]}))"
   ]
  },
  {
   "cell_type": "code",
   "execution_count": 64,
   "id": "0e39d34f",
   "metadata": {},
   "outputs": [],
   "source": [
    "# Create a list of the dependencies and make shorter thier wbs ID by removing dots.\n",
    "dependencies = list()\n",
    "for i in range(len(df)):\n",
    "    #predecessor = str(df['PREDECESSOR'][i])\n",
    "    if not pd.isna(df['PREDECESSOR'][i]):\n",
    "        if df['PREDECESSOR'][i] != 'Start':\n",
    "            temp_lst = re.split(r\"\\s+,\\s+\", df['PREDECESSOR'][i])\n",
    "            #temp_lst = re.split(r\"\\s+,\\s+\", predecessor)\n",
    "            while temp_lst:\n",
    "                temp_element = temp_lst.pop(0)\n",
    "                dependencies.append((re.sub(r\"\\.\", \"\", temp_element), re.sub(r\"\\.\", \"\", df['WBS'][i])))"
   ]
  },
  {
   "cell_type": "code",
   "execution_count": 65,
   "id": "a458e758",
   "metadata": {},
   "outputs": [],
   "source": [
    "pos_nodes = {'111': (1,3), '112': (1,1), '121': (2,2), '122': (2,3), '123': (3,2), '124': (4,2), '125': (5,2), \n",
    " '131': (2,4), '132': (1,5), '133': (3,4), '134': (4,4), '141': (5,3), '142': (6,3), \n",
    " '211': (7,3), '212': (7,4), '221': (8,3), '222': (8,2), '223': (8,4), '224': (9,2), '225': (9,3), '226': (9,4), \n",
    " '227': (10,4), '231': (11,3), '311': (12,4), '312': (12,3), '321': (12,2), '322': (11,1), '331': (13,2),\n",
    " '332': (13,3), '341': (13,4), '342': (14,4), '351': (14,3), '352': (14,2), '361': (11,5), '362': (13,5), '411': (15,2), \n",
    " '412': (14,5), '421': (16,2), '422': (15,5), '423': (17,1), '424': (17,2), '425': (17,3), \n",
    " '511': (16,3), '512': (15,3), '611': (19,1),'612': (18,2),'621': (19,2)}"
   ]
  },
  {
   "cell_type": "code",
   "execution_count": 66,
   "id": "1ff1bf34",
   "metadata": {},
   "outputs": [],
   "source": [
    "my_project = NetworkDiagram(tasks, dependencies, pos_nodes)"
   ]
  },
  {
   "cell_type": "markdown",
   "id": "ffcc5b46",
   "metadata": {},
   "source": [
    "In the picture below the Activity on Node (AON) Diagram is depicted. AON diagram is a visual representation of a project schedule that uses nodes to represent activities and arrows to represent task dependencies. AON diagrams are commonly used in project management to visualize the project's workflow, identify critical path tasks, and track project progress. "
   ]
  },
  {
   "cell_type": "code",
   "execution_count": 67,
   "id": "7bd3fab0",
   "metadata": {},
   "outputs": [
    {
     "data": {
      "image/png": "[encoded data removed]",
      "text/plain": [
       "<Figure size 640x480 with 1 Axes>"
      ]
     },
     "metadata": {},
     "output_type": "display_data"
    }
   ],
   "source": [
    "my_project.draw_network_diagram()"
   ]
  },
  {
   "cell_type": "code",
   "execution_count": 68,
   "id": "c91692bb",
   "metadata": {},
   "outputs": [
    {
     "data": {
      "image/png": "[encoded data removed]",
      "text/plain": [
       "<Figure size 640x480 with 1 Axes>"
      ]
     },
     "metadata": {},
     "output_type": "display_data"
    }
   ],
   "source": [
    "my_project.draw_critical_path_diagram()"
   ]
  },
  {
   "cell_type": "markdown",
   "id": "a6ef863c",
   "metadata": {},
   "source": [
    "The critical path is highlighted in red on the AON diagram, depicting the sequence of tasks that have the longest overall duration. These critical path activities are crucial for the timely completion of the project, as any delays in these tasks will directly impact the overall project duration. The critical path tasks include: \n",
    "<ul>\n",
    "<li><b>Take Detailed Measurements of the Greenhouse Environment (1.1.1):</b> Gathering accurate data about the greenhouse's dimensions, orientation, and environmental conditions is essential for designing and sizing the PV and rainwater harvesting systems effectively.</li>\n",
    "<li><b>Calculate Energy Needs (1.3.1):</b> Determining the greenhouse's energy requirements is crucial for selecting the appropriate PV system size to meet energy demands and ensure optimal performance.</li>\n",
    "<li><b>Determine Panel Size and Quantity (1.3.3):</b> Based on the calculated energy needs, the appropriate panel size and quantity can be determined to efficiently generate the required electricity.</li>\n",
    "<li><b>Design and Specify Components (1.3.4):</b> Designing the PV and rainwater harvesting systems, including selecting components like panels, filters, pumps, and storage tanks, requires careful consideration of technical specifications, compatibility, and efficiency.</li>\n",
    "<li><b>Integrate Rainwater Harvesting and PV Systems (1.4.1):</b> Integrating these systems seamlessly involves proper installation, ensuring proper functioning and integration with the greenhouse's existing infrastructure.</li>\n",
    "<li><b>Create Detailed Drawings and Specifications (1.4.2):</b> Producing comprehensive drawings and specifications is essential for clear communication of the designed systems to contractors, installers, and stakeholders.</li>\n",
    "<li><b>Identify and Select Supplier for PV and Its Required Components (2.1.1):</b> Selecting a reputable and reliable supplier is crucial for obtaining high-quality components at competitive prices, ensuring the project's success.</li>\n",
    "<li><b>Purchase PV and Required Components (2.2.1):</b> Acquiring the necessary PV panels and other components is essential to proceed with the installation phase.</li>\n",
    "<li><b>Obtain Electrical and Structural Permits (4.2.2):</b> Obtaining the necessary electrical and structural permits is mandatory to ensure compliance with local regulations and safety standards.</li>\n",
    "<li><b>Meet the Greenhouse Owner and Handover All Documents (6.2.1):</b> Conducting a final handover meeting with the greenhouse owner to provide an overview of the completed project, ensure understanding of the systems, and handover all relevant documentation is essential for successful project closure.</li>\n",
    "</ul>"
   ]
  },
  {
   "cell_type": "code",
   "execution_count": 69,
   "id": "2187186c",
   "metadata": {},
   "outputs": [
    {
     "name": "stdout",
     "output_type": "stream",
     "text": [
      "\n",
      "Current Project Duration = 26 days \n",
      "\n"
     ]
    },
    {
     "data": {
      "text/html": [
       "<div>\n",
       "<style scoped>\n",
       "    .dataframe tbody tr th:only-of-type {\n",
       "        vertical-align: middle;\n",
       "    }\n",
       "\n",
       "    .dataframe tbody tr th {\n",
       "        vertical-align: top;\n",
       "    }\n",
       "\n",
       "    .dataframe thead th {\n",
       "        text-align: right;\n",
       "    }\n",
       "</style>\n",
       "<table border=\"1\" class=\"dataframe\">\n",
       "  <thead>\n",
       "    <tr style=\"text-align: right;\">\n",
       "      <th></th>\n",
       "      <th>Task</th>\n",
       "      <th>Start</th>\n",
       "      <th>Finish</th>\n",
       "      <th>Status</th>\n",
       "    </tr>\n",
       "  </thead>\n",
       "  <tbody>\n",
       "    <tr>\n",
       "      <th>0</th>\n",
       "      <td>111</td>\n",
       "      <td>2024-01-01</td>\n",
       "      <td>2024-01-02</td>\n",
       "      <td>Critical Path</td>\n",
       "    </tr>\n",
       "    <tr>\n",
       "      <th>1</th>\n",
       "      <td>112</td>\n",
       "      <td>2024-01-02</td>\n",
       "      <td>2024-01-03</td>\n",
       "      <td>NA</td>\n",
       "    </tr>\n",
       "    <tr>\n",
       "      <th>2</th>\n",
       "      <td>121</td>\n",
       "      <td>2024-01-02</td>\n",
       "      <td>2024-01-03</td>\n",
       "      <td>NA</td>\n",
       "    </tr>\n",
       "    <tr>\n",
       "      <th>3</th>\n",
       "      <td>122</td>\n",
       "      <td>2024-01-02</td>\n",
       "      <td>2024-01-03</td>\n",
       "      <td>NA</td>\n",
       "    </tr>\n",
       "    <tr>\n",
       "      <th>4</th>\n",
       "      <td>123</td>\n",
       "      <td>2024-01-03</td>\n",
       "      <td>2024-01-04</td>\n",
       "      <td>NA</td>\n",
       "    </tr>\n",
       "    <tr>\n",
       "      <th>5</th>\n",
       "      <td>124</td>\n",
       "      <td>2024-01-04</td>\n",
       "      <td>2024-01-05</td>\n",
       "      <td>NA</td>\n",
       "    </tr>\n",
       "    <tr>\n",
       "      <th>6</th>\n",
       "      <td>125</td>\n",
       "      <td>2024-01-05</td>\n",
       "      <td>2024-01-06</td>\n",
       "      <td>NA</td>\n",
       "    </tr>\n",
       "    <tr>\n",
       "      <th>7</th>\n",
       "      <td>131</td>\n",
       "      <td>2024-01-02</td>\n",
       "      <td>2024-01-04</td>\n",
       "      <td>Critical Path</td>\n",
       "    </tr>\n",
       "    <tr>\n",
       "      <th>8</th>\n",
       "      <td>132</td>\n",
       "      <td>2024-01-02</td>\n",
       "      <td>2024-01-04</td>\n",
       "      <td>NA</td>\n",
       "    </tr>\n",
       "    <tr>\n",
       "      <th>9</th>\n",
       "      <td>133</td>\n",
       "      <td>2024-01-04</td>\n",
       "      <td>2024-01-06</td>\n",
       "      <td>Critical Path</td>\n",
       "    </tr>\n",
       "    <tr>\n",
       "      <th>10</th>\n",
       "      <td>134</td>\n",
       "      <td>2024-01-06</td>\n",
       "      <td>2024-01-08</td>\n",
       "      <td>Critical Path</td>\n",
       "    </tr>\n",
       "    <tr>\n",
       "      <th>11</th>\n",
       "      <td>141</td>\n",
       "      <td>2024-01-08</td>\n",
       "      <td>2024-01-09</td>\n",
       "      <td>Critical Path</td>\n",
       "    </tr>\n",
       "    <tr>\n",
       "      <th>12</th>\n",
       "      <td>142</td>\n",
       "      <td>2024-01-09</td>\n",
       "      <td>2024-01-10</td>\n",
       "      <td>Critical Path</td>\n",
       "    </tr>\n",
       "    <tr>\n",
       "      <th>13</th>\n",
       "      <td>211</td>\n",
       "      <td>2024-01-10</td>\n",
       "      <td>2024-01-11</td>\n",
       "      <td>Critical Path</td>\n",
       "    </tr>\n",
       "    <tr>\n",
       "      <th>14</th>\n",
       "      <td>212</td>\n",
       "      <td>2024-01-10</td>\n",
       "      <td>2024-01-11</td>\n",
       "      <td>NA</td>\n",
       "    </tr>\n",
       "    <tr>\n",
       "      <th>15</th>\n",
       "      <td>221</td>\n",
       "      <td>2024-01-11</td>\n",
       "      <td>2024-01-12</td>\n",
       "      <td>Critical Path</td>\n",
       "    </tr>\n",
       "    <tr>\n",
       "      <th>16</th>\n",
       "      <td>222</td>\n",
       "      <td>2024-01-11</td>\n",
       "      <td>2024-01-12</td>\n",
       "      <td>NA</td>\n",
       "    </tr>\n",
       "    <tr>\n",
       "      <th>17</th>\n",
       "      <td>223</td>\n",
       "      <td>2024-01-11</td>\n",
       "      <td>2024-01-12</td>\n",
       "      <td>NA</td>\n",
       "    </tr>\n",
       "    <tr>\n",
       "      <th>18</th>\n",
       "      <td>224</td>\n",
       "      <td>2024-01-11</td>\n",
       "      <td>2024-01-12</td>\n",
       "      <td>NA</td>\n",
       "    </tr>\n",
       "    <tr>\n",
       "      <th>19</th>\n",
       "      <td>225</td>\n",
       "      <td>2024-01-11</td>\n",
       "      <td>2024-01-12</td>\n",
       "      <td>NA</td>\n",
       "    </tr>\n",
       "    <tr>\n",
       "      <th>20</th>\n",
       "      <td>226</td>\n",
       "      <td>2024-01-11</td>\n",
       "      <td>2024-01-12</td>\n",
       "      <td>NA</td>\n",
       "    </tr>\n",
       "    <tr>\n",
       "      <th>21</th>\n",
       "      <td>227</td>\n",
       "      <td>2024-01-11</td>\n",
       "      <td>2024-01-12</td>\n",
       "      <td>NA</td>\n",
       "    </tr>\n",
       "    <tr>\n",
       "      <th>22</th>\n",
       "      <td>231</td>\n",
       "      <td>2024-01-12</td>\n",
       "      <td>2024-01-15</td>\n",
       "      <td>NA</td>\n",
       "    </tr>\n",
       "    <tr>\n",
       "      <th>23</th>\n",
       "      <td>311</td>\n",
       "      <td>2024-01-12</td>\n",
       "      <td>2024-01-13</td>\n",
       "      <td>NA</td>\n",
       "    </tr>\n",
       "    <tr>\n",
       "      <th>24</th>\n",
       "      <td>312</td>\n",
       "      <td>2024-01-12</td>\n",
       "      <td>2024-01-13</td>\n",
       "      <td>NA</td>\n",
       "    </tr>\n",
       "    <tr>\n",
       "      <th>25</th>\n",
       "      <td>321</td>\n",
       "      <td>2024-01-15</td>\n",
       "      <td>2024-01-16</td>\n",
       "      <td>NA</td>\n",
       "    </tr>\n",
       "    <tr>\n",
       "      <th>26</th>\n",
       "      <td>322</td>\n",
       "      <td>2024-01-16</td>\n",
       "      <td>2024-01-17</td>\n",
       "      <td>NA</td>\n",
       "    </tr>\n",
       "    <tr>\n",
       "      <th>27</th>\n",
       "      <td>331</td>\n",
       "      <td>2024-01-16</td>\n",
       "      <td>2024-01-17</td>\n",
       "      <td>NA</td>\n",
       "    </tr>\n",
       "    <tr>\n",
       "      <th>28</th>\n",
       "      <td>332</td>\n",
       "      <td>2024-01-16</td>\n",
       "      <td>2024-01-17</td>\n",
       "      <td>NA</td>\n",
       "    </tr>\n",
       "    <tr>\n",
       "      <th>29</th>\n",
       "      <td>341</td>\n",
       "      <td>2024-01-16</td>\n",
       "      <td>2024-01-17</td>\n",
       "      <td>NA</td>\n",
       "    </tr>\n",
       "    <tr>\n",
       "      <th>30</th>\n",
       "      <td>342</td>\n",
       "      <td>2024-01-17</td>\n",
       "      <td>2024-01-18</td>\n",
       "      <td>NA</td>\n",
       "    </tr>\n",
       "    <tr>\n",
       "      <th>31</th>\n",
       "      <td>351</td>\n",
       "      <td>2024-01-17</td>\n",
       "      <td>2024-01-18</td>\n",
       "      <td>NA</td>\n",
       "    </tr>\n",
       "    <tr>\n",
       "      <th>32</th>\n",
       "      <td>352</td>\n",
       "      <td>2024-01-17</td>\n",
       "      <td>2024-01-18</td>\n",
       "      <td>NA</td>\n",
       "    </tr>\n",
       "    <tr>\n",
       "      <th>33</th>\n",
       "      <td>361</td>\n",
       "      <td>2024-01-15</td>\n",
       "      <td>2024-01-16</td>\n",
       "      <td>NA</td>\n",
       "    </tr>\n",
       "    <tr>\n",
       "      <th>34</th>\n",
       "      <td>362</td>\n",
       "      <td>2024-01-16</td>\n",
       "      <td>2024-01-17</td>\n",
       "      <td>NA</td>\n",
       "    </tr>\n",
       "    <tr>\n",
       "      <th>35</th>\n",
       "      <td>411</td>\n",
       "      <td>2024-01-18</td>\n",
       "      <td>2024-01-19</td>\n",
       "      <td>NA</td>\n",
       "    </tr>\n",
       "    <tr>\n",
       "      <th>36</th>\n",
       "      <td>412</td>\n",
       "      <td>2024-01-17</td>\n",
       "      <td>2024-01-18</td>\n",
       "      <td>NA</td>\n",
       "    </tr>\n",
       "    <tr>\n",
       "      <th>37</th>\n",
       "      <td>421</td>\n",
       "      <td>2024-01-12</td>\n",
       "      <td>2024-01-22</td>\n",
       "      <td>NA</td>\n",
       "    </tr>\n",
       "    <tr>\n",
       "      <th>38</th>\n",
       "      <td>422</td>\n",
       "      <td>2024-01-12</td>\n",
       "      <td>2024-01-26</td>\n",
       "      <td>Critical Path</td>\n",
       "    </tr>\n",
       "    <tr>\n",
       "      <th>39</th>\n",
       "      <td>423</td>\n",
       "      <td>2024-01-12</td>\n",
       "      <td>2024-01-20</td>\n",
       "      <td>NA</td>\n",
       "    </tr>\n",
       "    <tr>\n",
       "      <th>40</th>\n",
       "      <td>424</td>\n",
       "      <td>2024-01-10</td>\n",
       "      <td>2024-01-14</td>\n",
       "      <td>NA</td>\n",
       "    </tr>\n",
       "    <tr>\n",
       "      <th>41</th>\n",
       "      <td>425</td>\n",
       "      <td>2024-01-10</td>\n",
       "      <td>2024-01-25</td>\n",
       "      <td>NA</td>\n",
       "    </tr>\n",
       "    <tr>\n",
       "      <th>42</th>\n",
       "      <td>511</td>\n",
       "      <td>2024-01-19</td>\n",
       "      <td>2024-01-20</td>\n",
       "      <td>NA</td>\n",
       "    </tr>\n",
       "    <tr>\n",
       "      <th>43</th>\n",
       "      <td>512</td>\n",
       "      <td>2024-01-18</td>\n",
       "      <td>2024-01-19</td>\n",
       "      <td>NA</td>\n",
       "    </tr>\n",
       "    <tr>\n",
       "      <th>44</th>\n",
       "      <td>611</td>\n",
       "      <td>2024-01-20</td>\n",
       "      <td>2024-01-21</td>\n",
       "      <td>NA</td>\n",
       "    </tr>\n",
       "    <tr>\n",
       "      <th>45</th>\n",
       "      <td>612</td>\n",
       "      <td>2024-01-21</td>\n",
       "      <td>2024-01-22</td>\n",
       "      <td>NA</td>\n",
       "    </tr>\n",
       "    <tr>\n",
       "      <th>46</th>\n",
       "      <td>621</td>\n",
       "      <td>2024-01-26</td>\n",
       "      <td>2024-01-27</td>\n",
       "      <td>Critical Path</td>\n",
       "    </tr>\n",
       "  </tbody>\n",
       "</table>\n",
       "</div>"
      ],
      "text/plain": [
       "   Task       Start      Finish         Status\n",
       "0   111  2024-01-01  2024-01-02  Critical Path\n",
       "1   112  2024-01-02  2024-01-03             NA\n",
       "2   121  2024-01-02  2024-01-03             NA\n",
       "3   122  2024-01-02  2024-01-03             NA\n",
       "4   123  2024-01-03  2024-01-04             NA\n",
       "5   124  2024-01-04  2024-01-05             NA\n",
       "6   125  2024-01-05  2024-01-06             NA\n",
       "7   131  2024-01-02  2024-01-04  Critical Path\n",
       "8   132  2024-01-02  2024-01-04             NA\n",
       "9   133  2024-01-04  2024-01-06  Critical Path\n",
       "10  134  2024-01-06  2024-01-08  Critical Path\n",
       "11  141  2024-01-08  2024-01-09  Critical Path\n",
       "12  142  2024-01-09  2024-01-10  Critical Path\n",
       "13  211  2024-01-10  2024-01-11  Critical Path\n",
       "14  212  2024-01-10  2024-01-11             NA\n",
       "15  221  2024-01-11  2024-01-12  Critical Path\n",
       "16  222  2024-01-11  2024-01-12             NA\n",
       "17  223  2024-01-11  2024-01-12             NA\n",
       "18  224  2024-01-11  2024-01-12             NA\n",
       "19  225  2024-01-11  2024-01-12             NA\n",
       "20  226  2024-01-11  2024-01-12             NA\n",
       "21  227  2024-01-11  2024-01-12             NA\n",
       "22  231  2024-01-12  2024-01-15             NA\n",
       "23  311  2024-01-12  2024-01-13             NA\n",
       "24  312  2024-01-12  2024-01-13             NA\n",
       "25  321  2024-01-15  2024-01-16             NA\n",
       "26  322  2024-01-16  2024-01-17             NA\n",
       "27  331  2024-01-16  2024-01-17             NA\n",
       "28  332  2024-01-16  2024-01-17             NA\n",
       "29  341  2024-01-16  2024-01-17             NA\n",
       "30  342  2024-01-17  2024-01-18             NA\n",
       "31  351  2024-01-17  2024-01-18             NA\n",
       "32  352  2024-01-17  2024-01-18             NA\n",
       "33  361  2024-01-15  2024-01-16             NA\n",
       "34  362  2024-01-16  2024-01-17             NA\n",
       "35  411  2024-01-18  2024-01-19             NA\n",
       "36  412  2024-01-17  2024-01-18             NA\n",
       "37  421  2024-01-12  2024-01-22             NA\n",
       "38  422  2024-01-12  2024-01-26  Critical Path\n",
       "39  423  2024-01-12  2024-01-20             NA\n",
       "40  424  2024-01-10  2024-01-14             NA\n",
       "41  425  2024-01-10  2024-01-25             NA\n",
       "42  511  2024-01-19  2024-01-20             NA\n",
       "43  512  2024-01-18  2024-01-19             NA\n",
       "44  611  2024-01-20  2024-01-21             NA\n",
       "45  612  2024-01-21  2024-01-22             NA\n",
       "46  621  2024-01-26  2024-01-27  Critical Path"
      ]
     },
     "metadata": {},
     "output_type": "display_data"
    }
   ],
   "source": [
    "my_project.show_project_schedule()"
   ]
  },
  {
   "cell_type": "markdown",
   "id": "65ee53fe",
   "metadata": {},
   "source": [
    "This project is estimated to take a total of 26 days to complete. The below plot provides a visual representation of the project schedule, highlighting the critical path and non-critical activities. \n",
    "\n",
    "Non-critical activities or slack activities are those that do not impact the overall project duration. Delays in non-critical activities can be tolerated as long as the critical path remains on schedule. "
   ]
  },
  {
   "cell_type": "code",
   "execution_count": 70,
   "id": "25484740",
   "metadata": {},
   "outputs": [
    {
     "data": {
      "image/png": "[encoded data removed]",
      "text/plain": [
       "<IPython.core.display.Image object>"
      ]
     },
     "metadata": {},
     "output_type": "display_data"
    }
   ],
   "source": [
    "my_project.plot_project_schedule()"
   ]
  },
  {
   "cell_type": "markdown",
   "id": "15eb68fd",
   "metadata": {},
   "source": [
    "<div style=\"background-color:#a7af46;\" id=\"risk\"><br>\n",
    "<center><h1 style=\"font-family:Lucida Bright\">Risk Assessment </h1></center><br><br>\n",
    "</div>"
   ]
  },
  {
   "cell_type": "markdown",
   "id": "e0e590c0",
   "metadata": {},
   "source": [
    "In order to perform risk assessment, the Monte Carlo method is employed. Monte Carlo Simulation is a valuable tool for making business decisions when faced with uncertainty, and it is widely recognized in the field of Project Management. For each task, a probability distribution for completion time is considered. For example, the task \"coordinate delivery schedules\" is estimated to take 2 days with a probability of 20%, 3 days with a probability of 50%, 4 days with a probability of 20%, and 5 days with a probability of 10%. \n",
    "\n",
    "In this project, most tasks are sequential, meaning that each task is dependent on the completion of the task before it. To estimate the risk associated with these tasks, the estimated completion times are summed. However, some tasks can be conducted in parallel, allowing for simultaneous execution. In such cases, the risk estimated time for these tasks is determined by taking the maximum completion time of the parallel tasks. Additionally, discrete risk events are considered for certain tasks. For example, in the case of bad weather with a 40% chance, the project is anticipated to be delayed by 1 day. \n",
    "\n",
    "Furthermore, the communication factor, which represents the risk of poor communication, follows a normal distribution with a mean of 1 and a standard deviation of 0.1. When team members communicate efficiently, the communication factor is less than 1, resulting in a reduction in the project completion time. Conversely, when communication is suboptimal, the communication factor exceeds 1, leading to an increase in the completion time. \n",
    "\n",
    "For the Monte Carlo simulation, a total of 1000 replication are performed. In each replication, the time for each activity and the total project time are recorded. This allows for the analysis of the project completion time distribution and provides insights into the associated risks. "
   ]
  },
  {
   "cell_type": "markdown",
   "id": "641d4d71",
   "metadata": {},
   "source": [
    "### Deliverable: Conduct site assessment"
   ]
  },
  {
   "cell_type": "code",
   "execution_count": 71,
   "id": "b074f754",
   "metadata": {},
   "outputs": [],
   "source": [
    "####################### parallel tasks\n",
    "# Take Detailed Measurements of the Greenhouse Environment\n",
    "t_111_comp = [0.5, 1 , 1.5]\n",
    "t_111_prob = [0.6, 0.3, 0.1]\n",
    "# Evaluate Suitable Space for Equipment Installation\n",
    "t_112_comp = [0.5, 1 , 1.5]\n",
    "t_112_comp = [0.6, 0.3, 0.1]"
   ]
  },
  {
   "cell_type": "markdown",
   "id": "e4da7a41",
   "metadata": {},
   "source": [
    "### Deliverable: Determine rainwater harvesting system requirements"
   ]
  },
  {
   "cell_type": "code",
   "execution_count": 72,
   "id": "5f94813a",
   "metadata": {},
   "outputs": [],
   "source": [
    "####################### Sequential Tasks\n",
    "# Assess water needs\n",
    "t_121_comp = [0.1, 0.2, 0.5, 1]\n",
    "t_121_prob = [0.7, 0.15, 0.1, 0.05]\n",
    "\n",
    "# Analyze rainfall patterns\n",
    "t_122_comp = [0.1, 0.2, 0.5, 1]\n",
    "t_122_prob = [0.7, 0.15, 0.1, 0.05]\n",
    "\n",
    "# Consider storage capacity\n",
    "t_123_comp = [0.1, 0.2, 0.5, 1]\n",
    "t_123_prob = [0.7, 0.15, 0.1, 0.05]\n",
    "\n",
    "# Evaluate filtration requirements\n",
    "t_124_comp = [0.1, 0.2, 0.5, 1]\n",
    "t_124_prob = [0.7, 0.15, 0.1, 0.05]\n",
    "\n",
    "# Design and specify components\n",
    "t_125_comp = [0.1, 0.2, 0.5, 1]\n",
    "t_125_prob = [0.7, 0.15, 0.1, 0.05]"
   ]
  },
  {
   "cell_type": "markdown",
   "id": "7528b3f5",
   "metadata": {},
   "source": [
    "### Deliverable: Determine PV system requirements"
   ]
  },
  {
   "cell_type": "code",
   "execution_count": 73,
   "id": "b6c7da14",
   "metadata": {},
   "outputs": [],
   "source": [
    "####################### Sequential Tasks\n",
    "# Calculate energy needs\n",
    "t_131_comp = [0.25, 0.5, 0.75, 1]\n",
    "t_131_prob = [0.15, 0.5, 0.25, 0.1]\n",
    "\n",
    "# Evaluate solar radiation\n",
    "t_132_comp = [0.25, 0.5, 0.75, 1]\n",
    "t_132_prob = [0.15, 0.5, 0.25, 0.1]\n",
    "\n",
    "# Determine panel size and quantity\n",
    "t_133_comp = [0.25, 0.5, 0.75, 1]\n",
    "t_133_prob = [0.15, 0.5, 0.25, 0.1]\n",
    "\n",
    "# Design and specify components\n",
    "t_134_comp = [0.25, 0.5, 0.75, 1]\n",
    "t_134_prob = [0.15, 0.5, 0.25, 0.1]"
   ]
  },
  {
   "cell_type": "markdown",
   "id": "16908cf2",
   "metadata": {},
   "source": [
    "### Deliverable: Develop system design"
   ]
  },
  {
   "cell_type": "code",
   "execution_count": 75,
   "id": "9cd5904d",
   "metadata": {},
   "outputs": [],
   "source": [
    "####################### Sequential Tasks\n",
    "# Integrate rainwater harvesting and PV systems\n",
    "t_141_comp = [0.3, 0.5, 1]\n",
    "t_141_prob = [0.4, 0.5, 0.1]\n",
    "\n",
    "# Create detailed drawings and specifications\n",
    "t_142_comp = [0.3, 0.5, 1]\n",
    "t_142_prob = [0.4, 0.5, 0.1]"
   ]
  },
  {
   "cell_type": "markdown",
   "id": "c6857743",
   "metadata": {},
   "source": [
    "### Deliverable: Identify and select suppliers & Prepare purchase orders"
   ]
  },
  {
   "cell_type": "code",
   "execution_count": 76,
   "id": "2dd23da2",
   "metadata": {},
   "outputs": [],
   "source": [
    "####################### Sequential Tasks\n",
    "# Identify and select supplier for PV and its required components\n",
    "t_211_comp = [0.1, 0.2]\n",
    "t_211_prob = [0.6, 0.4]\n",
    "\n",
    "# Identify and select suppliers for rainwater harvesting system components\n",
    "t_212_comp = [0.4, 0.5, 0.8, 1]\n",
    "t_212_prob = [0.3, 0.5, 0.15, 0.05]\n",
    "\n",
    "# Purchase PV and required components\n",
    "t_221 = 0.05 # days\n",
    "\n",
    "# Purchase Storage tanks\n",
    "t_222 = 0.05 # days\n",
    "\n",
    "# Purchase sediment filter\n",
    "t_223 = 0.05 # days \n",
    "\n",
    "# Purchase ultraviolet (UV) filter\n",
    "t_224 = 0.05 # days\n",
    "\n",
    "# Purchase submersible pump\n",
    "t_225 = 0.05 # days\n",
    "\n",
    "# Purchase control panel\n",
    "t_226 = 0.05 # days\n",
    "\n",
    "# Purchase distribution pipes\n",
    "t_227 = 0.05 # days"
   ]
  },
  {
   "cell_type": "markdown",
   "id": "dd877b2e",
   "metadata": {},
   "source": [
    "### Deliverable: Coordinate delivery schedules"
   ]
  },
  {
   "cell_type": "code",
   "execution_count": 77,
   "id": "c5a3fc81",
   "metadata": {},
   "outputs": [],
   "source": [
    "# Coordinate delivery schedules\n",
    "t_231_comp = [2, 3, 4, 5]\n",
    "t_231_prob = [0.2, 0.5, 0.2, 0.1]"
   ]
  },
  {
   "cell_type": "markdown",
   "id": "3a50e223",
   "metadata": {},
   "source": [
    "### Deliverable: Site Preparation"
   ]
  },
  {
   "cell_type": "code",
   "execution_count": 78,
   "id": "345b7d80",
   "metadata": {},
   "outputs": [],
   "source": [
    "####################### Sequential Tasks\n",
    "# Clearing and grading the ground for tank placement\n",
    "t_311_comp = [0.5, 1, 2]\n",
    "t_311_prob = [0.2, 0.6, 0.2]\n",
    "\n",
    "# Excavation for tank installation\n",
    "t_312_comp = [0.5, 1, 2]\n",
    "t_312_prob = [0.2, 0.6, 0.2]"
   ]
  },
  {
   "cell_type": "markdown",
   "id": "2555a50b",
   "metadata": {},
   "source": [
    "### Deliverable: Tank Installation"
   ]
  },
  {
   "cell_type": "code",
   "execution_count": 79,
   "id": "8c919405",
   "metadata": {},
   "outputs": [],
   "source": [
    "####################### Sequential Tasks\n",
    "# Delivery and installation of rainwater storage tanks\n",
    "t_321_comp = [0.5, 0.75, 1, 1.5, 2]\n",
    "t_321_prob = [0.15, 0.20, 0.5, 0.1, 0.05]\n",
    "\n",
    "# Connection of pipes to the tank\n",
    "t_322_comp = [0.5, 1, 1.5]\n",
    "t_322_prob = [0.35, 0.55, 0.1]"
   ]
  },
  {
   "cell_type": "markdown",
   "id": "d4b517d8",
   "metadata": {},
   "source": [
    "### Deliverable: Install Filtration System"
   ]
  },
  {
   "cell_type": "code",
   "execution_count": 80,
   "id": "0f1e3e62",
   "metadata": {},
   "outputs": [],
   "source": [
    "####################### parallel tasks\n",
    "# Installation of sediment filter\n",
    "t_331_comp = [0.5, 1, 1.5]\n",
    "t_331_prob = [0.25, 0.5, 0.25]\n",
    "\n",
    "# Installation of ultraviolet (UV) filter\n",
    "t_332_comp = [0.5, 1, 1.5]\n",
    "t_332_prob = [0.25, 0.5, 0.25]"
   ]
  },
  {
   "cell_type": "markdown",
   "id": "13688eff",
   "metadata": {},
   "source": [
    "### Deliverable: Install Pumping System"
   ]
  },
  {
   "cell_type": "code",
   "execution_count": 81,
   "id": "531baad3",
   "metadata": {},
   "outputs": [],
   "source": [
    "####################### parallel tasks\n",
    "# Installation of submersible pump\n",
    "t_341_comp = [0.5, 1, 1.5]\n",
    "t_341_prob = [0.25, 0.5, 0.25]\n",
    "\n",
    "# Installation of control panel\n",
    "t_342_comp = [0.5, 1, 1.5]\n",
    "t_342_prob = [0.25, 0.5, 0.25]"
   ]
  },
  {
   "cell_type": "markdown",
   "id": "88fa768f",
   "metadata": {},
   "source": [
    "### Deliverable: Install Distribution System"
   ]
  },
  {
   "cell_type": "code",
   "execution_count": 82,
   "id": "31355bc2",
   "metadata": {},
   "outputs": [],
   "source": [
    "####################### parallel tasks\n",
    "# Installation of collection and distribution pipes\n",
    "t_351_comp = [0.5, 1, 1.5]\n",
    "t_351_prob = [0.25, 0.5, 0.25]\n",
    "\n",
    "# Installation of irrigation system\n",
    "t_352_comp = [0.5, 1, 1.5]\n",
    "t_352_prob = [0.25, 0.5, 0.25]"
   ]
  },
  {
   "cell_type": "markdown",
   "id": "ad26fc64",
   "metadata": {},
   "source": [
    "### Deliverable: Install PV System"
   ]
  },
  {
   "cell_type": "code",
   "execution_count": 83,
   "id": "31fe13bb",
   "metadata": {},
   "outputs": [],
   "source": [
    "####################### Sequential Tasks\n",
    "# Install PV modules and mounting structures\n",
    "t_361_comp = [0.5, 0.8, 1, 1.5, 2]\n",
    "t_361_prob = [0.2, 0.3, 0.35, 0.1, 0.05]\n",
    "\n",
    "# Connect PV system to electrical infrastructure\n",
    "t_362_comp = [0.5, 1, 1.5]\n",
    "t_362_prob = [0.3, 0.5, 0.2]"
   ]
  },
  {
   "cell_type": "markdown",
   "id": "2142ede5",
   "metadata": {},
   "source": [
    "### Deliverable: Perform necessary tests"
   ]
  },
  {
   "cell_type": "code",
   "execution_count": 84,
   "id": "3f44ced0",
   "metadata": {},
   "outputs": [],
   "source": [
    "####################### Sequential tasks\n",
    "# Perform functionality tests on rainwater harvesting system and optimize it\n",
    "t_411_comp = [0.5, 0.75, 1, 1.5, 2]\n",
    "t_411_prob = [0.2, 0.3, 0.3, 0.15, 0.05]\n",
    "\n",
    "# Perform electrical tests on the PV system and optimize it\n",
    "t_412_comp = [0.5, 0.75, 1, 1.5]\n",
    "t_412_prob = [0.25, 0.35, 0.25, 0.15]"
   ]
  },
  {
   "cell_type": "markdown",
   "id": "955ab80e",
   "metadata": {},
   "source": [
    "### Deliverable: Obtain necessary certifications and approvals"
   ]
  },
  {
   "cell_type": "code",
   "execution_count": 85,
   "id": "cb0b2045",
   "metadata": {},
   "outputs": [],
   "source": [
    "####################### parallel tasks\n",
    "# Register for the Conto Termico 2.0 (CT2) program\n",
    "t_421_comp = [7, 10, 12, 14]\n",
    "t_421_prob = [0.2, 0.35, 0.25, 0.2]\n",
    "\n",
    "# Obtain electrical and structural permits\n",
    "t_422_comp = [7, 10, 14, 21]\n",
    "t_422_prob = [0.15, 0.35, 0.3, 0.2]\n",
    "\n",
    "# Obtain certifications for PV components\n",
    "t_423_comp = [5, 8, 10]\n",
    "t_423_prob = [0.2, 0.5, 0.3]\n",
    "\n",
    "# Obtain certifications for rainwater harvesting system components\n",
    "t_424_comp = [3, 5, 7]\n",
    "t_424_prob = [0.2, 0.5, 0.3]\n",
    "\n",
    "# Obtain authorization for rainwater discharge\n",
    "t_425_comp = [10, 14, 21, 26]\n",
    "t_425_prob = [0.2, 0.3, 0.35, 0.15]"
   ]
  },
  {
   "cell_type": "markdown",
   "id": "6e990c9e",
   "metadata": {},
   "source": [
    "### Deliverable: Create user manuals"
   ]
  },
  {
   "cell_type": "code",
   "execution_count": 86,
   "id": "d3c19dae",
   "metadata": {},
   "outputs": [],
   "source": [
    "####################### Sequential tasks\n",
    "# Create user manuals for rainwater harvesting system\n",
    "t_511_comp = [0.8, 1, 1.6]\n",
    "t_511_prob = [0.2, 0.55, 0.25]\n",
    "\n",
    "# Create user manuals for PV system\n",
    "t_512_comp = [0.5, 1, 1.2]\n",
    "t_512_prob = [0.3, 0.5, 0.2]"
   ]
  },
  {
   "cell_type": "markdown",
   "id": "81266c9a",
   "metadata": {},
   "source": [
    "### Deliverable: Conduct final project"
   ]
  },
  {
   "cell_type": "code",
   "execution_count": 87,
   "id": "53f1118e",
   "metadata": {},
   "outputs": [],
   "source": [
    "# Conduct final project review\n",
    "t_611 = 1\n",
    "\n",
    "# Archive project documents\n",
    "t_612 = 1\n",
    "\n",
    "# meet the greenhouse owner and handover all documents\n",
    "t_621 = 1"
   ]
  },
  {
   "cell_type": "code",
   "execution_count": 88,
   "id": "5e6a7ca1",
   "metadata": {},
   "outputs": [],
   "source": [
    "rec_111, rec_112, rec_121, rec_122, rec_123, rec_124, rec_125, rec_131, rec_132, rec_133 = [],[],[],[],[],[],[],[],[],[]\n",
    "rec_134, rec_141, rec_142, rec_211, rec_212, rec_231, rec_311, rec_312, rec_321, rec_322 = [],[],[],[],[],[],[],[],[],[]\n",
    "rec_331, rec_332, rec_341, rec_342, rec_351, rec_352, rec_361, rec_362, rec_411, rec_412 = [],[],[],[],[],[],[],[],[],[]\n",
    "rec_421, rec_422, rec_423, rec_424, rec_425, rec_511, rec_512, rec_221, rec_222, rec_223 = [],[],[],[],[],[],[],[],[],[]\n",
    "rec_224, rec_225, rec_226, rec_227, rec_611, rec_612, rec_621 = [],[],[],[],[],[],[]\n",
    "rec_total_project_time = []"
   ]
  },
  {
   "cell_type": "code",
   "execution_count": 89,
   "id": "9e3092f9",
   "metadata": {},
   "outputs": [],
   "source": [
    "reps = 1000\n",
    "\n",
    "for i in range(reps):\n",
    "    total_project_time = 0\n",
    "    t_111 = np.random.choice(t_111_comp, 1, p = t_111_prob)[0]\n",
    "    t_112 = np.random.choice(t_112_comp, 1, p = t_112_comp)[0]\n",
    "\n",
    "    t_121 = np.random.choice(t_121_comp, 1, p = t_121_prob)[0]\n",
    "    t_122 = np.random.choice(t_122_comp, 1, p = t_122_prob)[0]\n",
    "    t_123 = np.random.choice(t_123_comp, 1, p = t_123_prob)[0]\n",
    "    t_124 = np.random.choice(t_124_comp, 1, p = t_124_prob)[0]\n",
    "    t_125 = np.random.choice(t_125_comp, 1, p = t_125_prob)[0]\n",
    "\n",
    "    t_131 = np.random.choice(t_131_comp, 1, p = t_131_prob)[0]\n",
    "    t_132 = np.random.choice(t_132_comp, 1, p = t_132_prob)[0]\n",
    "    t_133 = np.random.choice(t_133_comp, 1, p = t_133_prob)[0]\n",
    "    t_134 = np.random.choice(t_134_comp, 1, p = t_134_prob)[0]\n",
    "\n",
    "    t_141 = np.random.choice(t_141_comp, 1, p = t_141_prob)[0]\n",
    "    t_142 = np.random.choice(t_142_comp, 1, p = t_142_prob)[0]\n",
    "\n",
    "    t_211 = np.random.choice(t_211_comp, 1, p = t_211_prob)[0]\n",
    "    t_212 = np.random.choice(t_212_comp, 1, p = t_212_prob)[0]\n",
    "\n",
    "    t_231 = np.random.choice(t_231_comp, 1, p = t_231_prob)[0]\n",
    "\n",
    "    t_311_weather = np.random.binomial(1, 0.4)\n",
    "    t_311_communication = round(max(0.1, np.random.normal(1, 0.1)),2)\n",
    "    t_311 = (np.random.choice(t_311_comp, 1, p = t_311_prob)[0] * t_311_communication) + t_311_weather\n",
    "\n",
    "    t_312_weather = np.random.binomial(1, 0.4)\n",
    "    t_312_communication = round(max(0.1, np.random.normal(1, 0.1)),2)\n",
    "    t_312 = (np.random.choice(t_312_comp, 1, p = t_312_prob)[0] * t_312_communication) + t_312_weather\n",
    "\n",
    "    t_321_weather = np.random.binomial(1, 0.4)\n",
    "    t_321_communication = round(max(0.1, np.random.normal(1, 0.1)),2)\n",
    "    t_321 = (np.random.choice(t_321_comp, 1, p = t_321_prob)[0] * t_321_communication) + t_321_weather\n",
    "\n",
    "    t_322_weather = np.random.binomial(1, 0.4)\n",
    "    t_322_communication = round(max(0.1, np.random.normal(1, 0.1)),2)\n",
    "    t_322 = (np.random.choice(t_322_comp, 1, p = t_322_prob)[0] * t_322_communication) + t_322_weather\n",
    "\n",
    "    t_331_communication = round(max(0.1, np.random.normal(1, 0.1)),2)\n",
    "    t_331 = (np.random.choice(t_331_comp, 1, p = t_331_prob)[0] * t_331_communication)\n",
    "\n",
    "    t_332_communication = round(max(0.1, np.random.normal(1, 0.1)),2)\n",
    "    t_332 = (np.random.choice(t_332_comp, 1, p = t_332_prob)[0] * t_332_communication)\n",
    "\n",
    "    t_341_communication = round(max(0.1, np.random.normal(1, 0.1)),2)\n",
    "    t_341 = (np.random.choice(t_341_comp, 1, p = t_341_prob)[0] * t_341_communication)\n",
    "\n",
    "    t_342_communication = round(max(0.1, np.random.normal(1, 0.1)),2)\n",
    "    t_342 = (np.random.choice(t_342_comp, 1, p = t_342_prob)[0] * t_342_communication)\n",
    "\n",
    "    t_351_communication = round(max(0.1, np.random.normal(1, 0.1)),2)\n",
    "    t_351 = (np.random.choice(t_351_comp, 1, p = t_351_prob)[0] * t_351_communication)\n",
    "\n",
    "    t_352_communication = round(max(0.1, np.random.normal(1, 0.1)),2)\n",
    "    t_352 = (np.random.choice(t_352_comp, 1, p = t_352_prob)[0] * t_352_communication)\n",
    "\n",
    "    t_361_weather = np.random.binomial(1, 0.4)\n",
    "    t_361_communication = round(max(0.1, np.random.normal(1, 0.1)),2)\n",
    "    t_361 = (np.random.choice(t_361_comp, 1, p = t_361_prob)[0] * t_361_communication) + t_361_weather\n",
    "\n",
    "    t_362_communication = round(max(0.1, np.random.normal(1, 0.1)),2)\n",
    "    t_362 = (np.random.choice(t_362_comp, 1, p = t_362_prob)[0] * t_362_communication)\n",
    "\n",
    "    t_411 = np.random.choice(t_411_comp, 1, p = t_411_prob)[0]\n",
    "    t_412 = np.random.choice(t_412_comp, 1, p = t_412_prob)[0]\n",
    "\n",
    "    t_421 = np.random.choice(t_421_comp, 1, p = t_421_prob)[0]\n",
    "    t_422 = np.random.choice(t_422_comp, 1, p = t_422_prob)[0]\n",
    "    t_423 = np.random.choice(t_423_comp, 1, p = t_423_prob)[0]\n",
    "    t_424 = np.random.choice(t_424_comp, 1, p = t_424_prob)[0]\n",
    "    t_425 = np.random.choice(t_425_comp, 1, p = t_425_prob)[0]\n",
    "\n",
    "    t_511 = np.random.choice(t_511_comp, 1, p = t_511_prob)[0]\n",
    "    t_512 = np.random.choice(t_512_comp, 1, p = t_512_prob)[0]\n",
    "\n",
    "    total_project_time += max(t_111, t_112) + t_121 + t_122 + t_123 + t_124 + t_125 + t_131 + t_132 + t_133 + t_134\\\n",
    "                        + t_141 + t_142 + max(t_211, t_212, t_221, t_222, t_223, t_224, t_225, t_226, t_227, t_231)\\\n",
    "                        + t_312 + max(t_331, t_332) + max(t_341, t_342) + max(t_351, t_352) + max(t_361, t_321)\\\n",
    "                        + max(t_362, t_322) + t_411 + t_412 + max(t_311, t_421, t_422, t_423, t_424, t_425) + t_511\\\n",
    "                        + t_512 + t_611 + t_612 + t_621\n",
    "    \n",
    "    rec_111.append(t_111)\n",
    "    rec_112.append(t_112)\n",
    "    rec_121.append(t_121)\n",
    "    rec_122.append(t_122)\n",
    "    rec_123.append(t_123)\n",
    "    rec_124.append(t_124)\n",
    "    rec_125.append(t_125)\n",
    "    rec_131.append(t_131)\n",
    "    rec_132.append(t_132)\n",
    "    rec_133.append(t_133)\n",
    "    rec_134.append(t_134)\n",
    "    rec_141.append(t_141)\n",
    "    rec_142.append(t_142)\n",
    "    rec_211.append(t_211)\n",
    "    rec_212.append(t_212)\n",
    "    rec_231.append(t_231)\n",
    "    rec_311.append(t_311)\n",
    "    rec_312.append(t_312)\n",
    "    rec_321.append(t_321)\n",
    "    rec_322.append(t_322)\n",
    "    rec_331.append(t_331)\n",
    "    rec_332.append(t_332)\n",
    "    rec_341.append(t_341)\n",
    "    rec_342.append(t_342)\n",
    "    rec_351.append(t_351)\n",
    "    rec_352.append(t_352)\n",
    "    rec_361.append(t_361)\n",
    "    rec_362.append(t_362)\n",
    "    rec_411.append(t_411)\n",
    "    rec_412.append(t_412)\n",
    "    rec_421.append(t_421)\n",
    "    rec_422.append(t_422)\n",
    "    rec_423.append(t_423)\n",
    "    rec_424.append(t_424)\n",
    "    rec_425.append(t_425)\n",
    "    rec_511.append(t_511)\n",
    "    rec_512.append(t_512)\n",
    "    rec_221.append(t_221)\n",
    "    rec_222.append(t_222)\n",
    "    rec_223.append(t_223)\n",
    "    rec_224.append(t_224)\n",
    "    rec_225.append(t_225)\n",
    "    rec_226.append(t_226)\n",
    "    rec_227.append(t_227)\n",
    "    rec_611.append(t_611)\n",
    "    rec_612.append(t_612)\n",
    "    rec_621.append(t_621)\n",
    "    rec_total_project_time.append(total_project_time)\n",
    "\n",
    "risk_assessment_df = pd.DataFrame({\"1.1.1\": rec_111,\"1.1.2\": rec_112, \"1.2.1\": rec_121, \"1.2.2\": rec_122, \n",
    "                        \"1.2.3\": rec_123, \"1.2.4\": rec_124, \"1.2.5\": rec_125, \"1.3.1\": rec_131, \"1.3.2\": rec_132, \n",
    "                        \"1.3.3\": rec_133, \"1.3.4\": rec_134, \"1.4.1\": rec_141, \"1.4.2\": rec_142, \"2.1.1\": rec_211, \n",
    "                        \"2.1.2\": rec_212, \"2.2.1\": rec_221, \"2.2.2\": rec_222, \"2.2.3\": rec_223, \"2.2.4\": rec_224,\n",
    "                        \"2.2.5\": rec_225, \"2.2.6\": rec_226, \"2.2.7\": rec_227, \"2.3.1\": rec_231, \"3.1.1\": rec_311, \n",
    "                        \"3.1.2\": rec_312, \"3.2.1\": rec_321, \"3.2.2\": rec_322, \"3.3.1\": rec_331, \"3.3.2\": rec_332, \n",
    "                        \"3.4.1\": rec_341, \"3.4.2\": rec_342, \"3.5.1\": rec_351, \"3.5.2\": rec_352, \"3.6.1\": rec_361, \n",
    "                        \"3.6.2\": rec_362, \"4.1.1\": rec_411, \"4.1.2\": rec_412, \"4.2.1\": rec_421, \"4.2.2\": rec_422, \n",
    "                        \"4.2.3\": rec_423, \"4.2.4\": rec_424, \"4.2.5\": rec_425, \"5.1.1\": rec_511, \"5.1.2\": rec_512, \n",
    "                        \"6.1.1\": rec_611, \"6.1.2\": rec_612, \"6.2.1\": rec_621, \"total time\": rec_total_project_time})\n"
   ]
  },
  {
   "cell_type": "code",
   "execution_count": 90,
   "id": "0768641f",
   "metadata": {},
   "outputs": [
    {
     "data": {
      "image/png": "[encoded data removed]",
      "text/plain": [
       "<Figure size 640x480 with 1 Axes>"
      ]
     },
     "metadata": {},
     "output_type": "display_data"
    }
   ],
   "source": [
    "plt.hist(risk_assessment_df['total time'], bins=range(25, 60, 1))  # Set bins to range from 0 to 100 with increment of 1\n",
    "plt.xlabel('Total Time (days)')\n",
    "plt.ylabel('Frequency')\n",
    "plt.title('Histogram of Completed Project Time')\n",
    "plt.show()"
   ]
  },
  {
   "cell_type": "code",
   "execution_count": 91,
   "id": "effc857f",
   "metadata": {},
   "outputs": [
    {
     "name": "stdout",
     "output_type": "stream",
     "text": [
      "count    1000.000000\n",
      "mean       41.888419\n",
      "std         5.013013\n",
      "min        29.020000\n",
      "25%        37.402500\n",
      "50%        42.972500\n",
      "75%        45.468750\n",
      "max        55.025000\n",
      "Name: total time, dtype: float64\n"
     ]
    }
   ],
   "source": [
    "print(risk_assessment_df['total time'].describe())"
   ]
  },
  {
   "cell_type": "code",
   "execution_count": 92,
   "id": "57470205",
   "metadata": {},
   "outputs": [
    {
     "name": "stdout",
     "output_type": "stream",
     "text": [
      "49.556\n"
     ]
    }
   ],
   "source": [
    "print(np.percentile(risk_assessment_df['total time'],95))"
   ]
  },
  {
   "cell_type": "markdown",
   "id": "ea8950ee",
   "metadata": {},
   "source": [
    "The histogram presented above depicts the distribution of total projection time derived from 1,000 Monte Carlo simulations. The mean duration of 41.7 days deviates significantly from the estimated project duration of 26 days, reflecting a substantial increase of nearly 60%. \n",
    "\n",
    "The standard deviation of 5.2 days highlights the considerable variability in possible project durations. The shortest simulation took 30 days, while the longest extended to 54 days, encompassing a wide spectrum of scenarios. \n",
    "\n",
    "To confidently meet the deadline with a 95% probability, a realistic project duration estimate of approximately 50 days is recommended. This value accounts for the observed variability and ensures a higher likelihood of completing the project within the specified timeframe. "
   ]
  },
  {
   "cell_type": "code",
   "execution_count": 93,
   "id": "78e117a1",
   "metadata": {},
   "outputs": [
    {
     "data": {
      "text/html": [
       "<div>\n",
       "<style scoped>\n",
       "    .dataframe tbody tr th:only-of-type {\n",
       "        vertical-align: middle;\n",
       "    }\n",
       "\n",
       "    .dataframe tbody tr th {\n",
       "        vertical-align: top;\n",
       "    }\n",
       "\n",
       "    .dataframe thead th {\n",
       "        text-align: right;\n",
       "    }\n",
       "</style>\n",
       "<table border=\"1\" class=\"dataframe\">\n",
       "  <thead>\n",
       "    <tr style=\"text-align: right;\">\n",
       "      <th></th>\n",
       "      <th>1.1.1</th>\n",
       "      <th>1.1.2</th>\n",
       "      <th>1.2.1</th>\n",
       "      <th>1.2.2</th>\n",
       "      <th>1.2.3</th>\n",
       "      <th>1.2.4</th>\n",
       "      <th>1.2.5</th>\n",
       "      <th>1.3.1</th>\n",
       "      <th>1.3.2</th>\n",
       "      <th>1.3.3</th>\n",
       "      <th>...</th>\n",
       "      <th>4.2.2</th>\n",
       "      <th>4.2.3</th>\n",
       "      <th>4.2.4</th>\n",
       "      <th>4.2.5</th>\n",
       "      <th>5.1.1</th>\n",
       "      <th>5.1.2</th>\n",
       "      <th>6.1.1</th>\n",
       "      <th>6.1.2</th>\n",
       "      <th>6.2.1</th>\n",
       "      <th>total time</th>\n",
       "    </tr>\n",
       "  </thead>\n",
       "  <tbody>\n",
       "    <tr>\n",
       "      <th>0</th>\n",
       "      <td>0.5</td>\n",
       "      <td>0.3</td>\n",
       "      <td>0.1</td>\n",
       "      <td>0.2</td>\n",
       "      <td>0.1</td>\n",
       "      <td>0.1</td>\n",
       "      <td>0.1</td>\n",
       "      <td>0.50</td>\n",
       "      <td>0.25</td>\n",
       "      <td>0.50</td>\n",
       "      <td>...</td>\n",
       "      <td>10</td>\n",
       "      <td>10</td>\n",
       "      <td>3</td>\n",
       "      <td>21</td>\n",
       "      <td>1.0</td>\n",
       "      <td>0.5</td>\n",
       "      <td>1</td>\n",
       "      <td>1</td>\n",
       "      <td>1</td>\n",
       "      <td>43.555</td>\n",
       "    </tr>\n",
       "    <tr>\n",
       "      <th>1</th>\n",
       "      <td>1.5</td>\n",
       "      <td>0.3</td>\n",
       "      <td>0.1</td>\n",
       "      <td>0.1</td>\n",
       "      <td>0.1</td>\n",
       "      <td>0.1</td>\n",
       "      <td>0.1</td>\n",
       "      <td>0.75</td>\n",
       "      <td>0.50</td>\n",
       "      <td>0.75</td>\n",
       "      <td>...</td>\n",
       "      <td>14</td>\n",
       "      <td>10</td>\n",
       "      <td>5</td>\n",
       "      <td>21</td>\n",
       "      <td>1.0</td>\n",
       "      <td>1.2</td>\n",
       "      <td>1</td>\n",
       "      <td>1</td>\n",
       "      <td>1</td>\n",
       "      <td>45.765</td>\n",
       "    </tr>\n",
       "    <tr>\n",
       "      <th>2</th>\n",
       "      <td>0.5</td>\n",
       "      <td>0.3</td>\n",
       "      <td>0.1</td>\n",
       "      <td>0.1</td>\n",
       "      <td>0.2</td>\n",
       "      <td>0.1</td>\n",
       "      <td>0.1</td>\n",
       "      <td>0.25</td>\n",
       "      <td>0.25</td>\n",
       "      <td>0.25</td>\n",
       "      <td>...</td>\n",
       "      <td>7</td>\n",
       "      <td>8</td>\n",
       "      <td>3</td>\n",
       "      <td>14</td>\n",
       "      <td>1.0</td>\n",
       "      <td>1.2</td>\n",
       "      <td>1</td>\n",
       "      <td>1</td>\n",
       "      <td>1</td>\n",
       "      <td>34.565</td>\n",
       "    </tr>\n",
       "    <tr>\n",
       "      <th>3</th>\n",
       "      <td>0.5</td>\n",
       "      <td>0.6</td>\n",
       "      <td>0.1</td>\n",
       "      <td>0.5</td>\n",
       "      <td>0.1</td>\n",
       "      <td>0.1</td>\n",
       "      <td>0.5</td>\n",
       "      <td>0.75</td>\n",
       "      <td>0.50</td>\n",
       "      <td>0.50</td>\n",
       "      <td>...</td>\n",
       "      <td>14</td>\n",
       "      <td>8</td>\n",
       "      <td>3</td>\n",
       "      <td>21</td>\n",
       "      <td>1.0</td>\n",
       "      <td>1.0</td>\n",
       "      <td>1</td>\n",
       "      <td>1</td>\n",
       "      <td>1</td>\n",
       "      <td>44.340</td>\n",
       "    </tr>\n",
       "    <tr>\n",
       "      <th>4</th>\n",
       "      <td>0.5</td>\n",
       "      <td>0.6</td>\n",
       "      <td>0.5</td>\n",
       "      <td>0.1</td>\n",
       "      <td>0.1</td>\n",
       "      <td>0.1</td>\n",
       "      <td>1.0</td>\n",
       "      <td>0.25</td>\n",
       "      <td>0.25</td>\n",
       "      <td>0.25</td>\n",
       "      <td>...</td>\n",
       "      <td>14</td>\n",
       "      <td>8</td>\n",
       "      <td>5</td>\n",
       "      <td>21</td>\n",
       "      <td>0.8</td>\n",
       "      <td>1.2</td>\n",
       "      <td>1</td>\n",
       "      <td>1</td>\n",
       "      <td>1</td>\n",
       "      <td>40.825</td>\n",
       "    </tr>\n",
       "    <tr>\n",
       "      <th>...</th>\n",
       "      <td>...</td>\n",
       "      <td>...</td>\n",
       "      <td>...</td>\n",
       "      <td>...</td>\n",
       "      <td>...</td>\n",
       "      <td>...</td>\n",
       "      <td>...</td>\n",
       "      <td>...</td>\n",
       "      <td>...</td>\n",
       "      <td>...</td>\n",
       "      <td>...</td>\n",
       "      <td>...</td>\n",
       "      <td>...</td>\n",
       "      <td>...</td>\n",
       "      <td>...</td>\n",
       "      <td>...</td>\n",
       "      <td>...</td>\n",
       "      <td>...</td>\n",
       "      <td>...</td>\n",
       "      <td>...</td>\n",
       "      <td>...</td>\n",
       "    </tr>\n",
       "    <tr>\n",
       "      <th>995</th>\n",
       "      <td>1.5</td>\n",
       "      <td>0.6</td>\n",
       "      <td>0.2</td>\n",
       "      <td>0.1</td>\n",
       "      <td>0.1</td>\n",
       "      <td>0.1</td>\n",
       "      <td>0.2</td>\n",
       "      <td>0.50</td>\n",
       "      <td>1.00</td>\n",
       "      <td>0.50</td>\n",
       "      <td>...</td>\n",
       "      <td>21</td>\n",
       "      <td>8</td>\n",
       "      <td>7</td>\n",
       "      <td>21</td>\n",
       "      <td>1.0</td>\n",
       "      <td>1.0</td>\n",
       "      <td>1</td>\n",
       "      <td>1</td>\n",
       "      <td>1</td>\n",
       "      <td>45.485</td>\n",
       "    </tr>\n",
       "    <tr>\n",
       "      <th>996</th>\n",
       "      <td>0.5</td>\n",
       "      <td>0.1</td>\n",
       "      <td>0.1</td>\n",
       "      <td>0.2</td>\n",
       "      <td>0.1</td>\n",
       "      <td>1.0</td>\n",
       "      <td>0.1</td>\n",
       "      <td>1.00</td>\n",
       "      <td>1.00</td>\n",
       "      <td>0.50</td>\n",
       "      <td>...</td>\n",
       "      <td>10</td>\n",
       "      <td>8</td>\n",
       "      <td>5</td>\n",
       "      <td>21</td>\n",
       "      <td>1.6</td>\n",
       "      <td>1.0</td>\n",
       "      <td>1</td>\n",
       "      <td>1</td>\n",
       "      <td>1</td>\n",
       "      <td>45.685</td>\n",
       "    </tr>\n",
       "    <tr>\n",
       "      <th>997</th>\n",
       "      <td>0.5</td>\n",
       "      <td>0.3</td>\n",
       "      <td>0.5</td>\n",
       "      <td>0.1</td>\n",
       "      <td>0.1</td>\n",
       "      <td>0.1</td>\n",
       "      <td>0.1</td>\n",
       "      <td>0.25</td>\n",
       "      <td>0.50</td>\n",
       "      <td>0.75</td>\n",
       "      <td>...</td>\n",
       "      <td>10</td>\n",
       "      <td>10</td>\n",
       "      <td>3</td>\n",
       "      <td>21</td>\n",
       "      <td>0.8</td>\n",
       "      <td>1.2</td>\n",
       "      <td>1</td>\n",
       "      <td>1</td>\n",
       "      <td>1</td>\n",
       "      <td>44.048</td>\n",
       "    </tr>\n",
       "    <tr>\n",
       "      <th>998</th>\n",
       "      <td>0.5</td>\n",
       "      <td>0.3</td>\n",
       "      <td>0.1</td>\n",
       "      <td>0.1</td>\n",
       "      <td>0.5</td>\n",
       "      <td>0.5</td>\n",
       "      <td>0.1</td>\n",
       "      <td>0.50</td>\n",
       "      <td>0.50</td>\n",
       "      <td>0.50</td>\n",
       "      <td>...</td>\n",
       "      <td>7</td>\n",
       "      <td>8</td>\n",
       "      <td>5</td>\n",
       "      <td>10</td>\n",
       "      <td>1.0</td>\n",
       "      <td>1.0</td>\n",
       "      <td>1</td>\n",
       "      <td>1</td>\n",
       "      <td>1</td>\n",
       "      <td>32.005</td>\n",
       "    </tr>\n",
       "    <tr>\n",
       "      <th>999</th>\n",
       "      <td>0.5</td>\n",
       "      <td>0.6</td>\n",
       "      <td>1.0</td>\n",
       "      <td>0.1</td>\n",
       "      <td>0.5</td>\n",
       "      <td>0.1</td>\n",
       "      <td>0.2</td>\n",
       "      <td>0.50</td>\n",
       "      <td>0.50</td>\n",
       "      <td>1.00</td>\n",
       "      <td>...</td>\n",
       "      <td>21</td>\n",
       "      <td>8</td>\n",
       "      <td>7</td>\n",
       "      <td>10</td>\n",
       "      <td>1.6</td>\n",
       "      <td>1.2</td>\n",
       "      <td>1</td>\n",
       "      <td>1</td>\n",
       "      <td>1</td>\n",
       "      <td>46.180</td>\n",
       "    </tr>\n",
       "  </tbody>\n",
       "</table>\n",
       "<p>1000 rows × 48 columns</p>\n",
       "</div>"
      ],
      "text/plain": [
       "     1.1.1  1.1.2  1.2.1  1.2.2  1.2.3  1.2.4  1.2.5  1.3.1  1.3.2  1.3.3  \\\n",
       "0      0.5    0.3    0.1    0.2    0.1    0.1    0.1   0.50   0.25   0.50   \n",
       "1      1.5    0.3    0.1    0.1    0.1    0.1    0.1   0.75   0.50   0.75   \n",
       "2      0.5    0.3    0.1    0.1    0.2    0.1    0.1   0.25   0.25   0.25   \n",
       "3      0.5    0.6    0.1    0.5    0.1    0.1    0.5   0.75   0.50   0.50   \n",
       "4      0.5    0.6    0.5    0.1    0.1    0.1    1.0   0.25   0.25   0.25   \n",
       "..     ...    ...    ...    ...    ...    ...    ...    ...    ...    ...   \n",
       "995    1.5    0.6    0.2    0.1    0.1    0.1    0.2   0.50   1.00   0.50   \n",
       "996    0.5    0.1    0.1    0.2    0.1    1.0    0.1   1.00   1.00   0.50   \n",
       "997    0.5    0.3    0.5    0.1    0.1    0.1    0.1   0.25   0.50   0.75   \n",
       "998    0.5    0.3    0.1    0.1    0.5    0.5    0.1   0.50   0.50   0.50   \n",
       "999    0.5    0.6    1.0    0.1    0.5    0.1    0.2   0.50   0.50   1.00   \n",
       "\n",
       "     ...  4.2.2  4.2.3  4.2.4  4.2.5  5.1.1  5.1.2  6.1.1  6.1.2  6.2.1  \\\n",
       "0    ...     10     10      3     21    1.0    0.5      1      1      1   \n",
       "1    ...     14     10      5     21    1.0    1.2      1      1      1   \n",
       "2    ...      7      8      3     14    1.0    1.2      1      1      1   \n",
       "3    ...     14      8      3     21    1.0    1.0      1      1      1   \n",
       "4    ...     14      8      5     21    0.8    1.2      1      1      1   \n",
       "..   ...    ...    ...    ...    ...    ...    ...    ...    ...    ...   \n",
       "995  ...     21      8      7     21    1.0    1.0      1      1      1   \n",
       "996  ...     10      8      5     21    1.6    1.0      1      1      1   \n",
       "997  ...     10     10      3     21    0.8    1.2      1      1      1   \n",
       "998  ...      7      8      5     10    1.0    1.0      1      1      1   \n",
       "999  ...     21      8      7     10    1.6    1.2      1      1      1   \n",
       "\n",
       "     total time  \n",
       "0        43.555  \n",
       "1        45.765  \n",
       "2        34.565  \n",
       "3        44.340  \n",
       "4        40.825  \n",
       "..          ...  \n",
       "995      45.485  \n",
       "996      45.685  \n",
       "997      44.048  \n",
       "998      32.005  \n",
       "999      46.180  \n",
       "\n",
       "[1000 rows x 48 columns]"
      ]
     },
     "execution_count": 93,
     "metadata": {},
     "output_type": "execute_result"
    }
   ],
   "source": [
    "risk_assessment_df"
   ]
  },
  {
   "cell_type": "markdown",
   "id": "b5f9794d",
   "metadata": {},
   "source": [
    "<div style=\"background-color:#a7af46;\" id=\"risk_monte\">\n",
    "<center><h2 style=\"font-family:Lucida Bright\">Monte Carlo Simulation and Critical Path Analysis: A Risk-Based Approach </h2></center><br>\n",
    "</div>"
   ]
  },
  {
   "cell_type": "markdown",
   "id": "530da018",
   "metadata": {},
   "source": [
    "To further refine the project schedule and risk assessment, the average duration for each task based on the results of 1,000 Monte Carlo simulations is calculated. This approach accounts for the inherent variability in task durations and provides a more realistic estimate of the project's overall duration. "
   ]
  },
  {
   "cell_type": "code",
   "execution_count": 94,
   "id": "5f61a1c8",
   "metadata": {},
   "outputs": [],
   "source": [
    "# create a list of the tasks and make shorter their wbs ID by removing dots.\n",
    "tasks_risk = list()\n",
    "for col in risk_assessment_df.columns:\n",
    "    tasks_risk.append((re.sub(r\"\\.\", \"\", col), {\"Duration\":int(risk_assessment_df[col].mean())+1}))\n",
    "tasks_risk = tasks_risk[:-1]"
   ]
  },
  {
   "cell_type": "code",
   "execution_count": 95,
   "id": "d753c55f",
   "metadata": {},
   "outputs": [],
   "source": [
    "risk_project = NetworkDiagram(tasks_risk, dependencies, pos_nodes)"
   ]
  },
  {
   "cell_type": "code",
   "execution_count": 96,
   "id": "7fe2c444",
   "metadata": {},
   "outputs": [
    {
     "data": {
      "image/png": "[encoded data removed]",
      "text/plain": [
       "<Figure size 640x480 with 1 Axes>"
      ]
     },
     "metadata": {},
     "output_type": "display_data"
    }
   ],
   "source": [
    "risk_project.draw_network_diagram()"
   ]
  },
  {
   "cell_type": "code",
   "execution_count": 97,
   "id": "d6e76a20",
   "metadata": {},
   "outputs": [
    {
     "data": {
      "image/png": "[encoded data removed]",
      "text/plain": [
       "<Figure size 640x480 with 1 Axes>"
      ]
     },
     "metadata": {},
     "output_type": "display_data"
    }
   ],
   "source": [
    "risk_project.draw_critical_path_diagram()"
   ]
  },
  {
   "cell_type": "code",
   "execution_count": 98,
   "id": "69d96a16",
   "metadata": {},
   "outputs": [
    {
     "name": "stdout",
     "output_type": "stream",
     "text": [
      "\n",
      "Current Project Duration = 27 days \n",
      "\n"
     ]
    },
    {
     "data": {
      "text/html": [
       "<div>\n",
       "<style scoped>\n",
       "    .dataframe tbody tr th:only-of-type {\n",
       "        vertical-align: middle;\n",
       "    }\n",
       "\n",
       "    .dataframe tbody tr th {\n",
       "        vertical-align: top;\n",
       "    }\n",
       "\n",
       "    .dataframe thead th {\n",
       "        text-align: right;\n",
       "    }\n",
       "</style>\n",
       "<table border=\"1\" class=\"dataframe\">\n",
       "  <thead>\n",
       "    <tr style=\"text-align: right;\">\n",
       "      <th></th>\n",
       "      <th>Task</th>\n",
       "      <th>Start</th>\n",
       "      <th>Finish</th>\n",
       "      <th>Status</th>\n",
       "    </tr>\n",
       "  </thead>\n",
       "  <tbody>\n",
       "    <tr>\n",
       "      <th>0</th>\n",
       "      <td>111</td>\n",
       "      <td>2024-01-01</td>\n",
       "      <td>2024-01-02</td>\n",
       "      <td>Critical Path</td>\n",
       "    </tr>\n",
       "    <tr>\n",
       "      <th>1</th>\n",
       "      <td>112</td>\n",
       "      <td>2024-01-02</td>\n",
       "      <td>2024-01-03</td>\n",
       "      <td>NA</td>\n",
       "    </tr>\n",
       "    <tr>\n",
       "      <th>2</th>\n",
       "      <td>121</td>\n",
       "      <td>2024-01-02</td>\n",
       "      <td>2024-01-03</td>\n",
       "      <td>Critical Path</td>\n",
       "    </tr>\n",
       "    <tr>\n",
       "      <th>3</th>\n",
       "      <td>122</td>\n",
       "      <td>2024-01-02</td>\n",
       "      <td>2024-01-03</td>\n",
       "      <td>NA</td>\n",
       "    </tr>\n",
       "    <tr>\n",
       "      <th>4</th>\n",
       "      <td>123</td>\n",
       "      <td>2024-01-03</td>\n",
       "      <td>2024-01-04</td>\n",
       "      <td>Critical Path</td>\n",
       "    </tr>\n",
       "    <tr>\n",
       "      <th>5</th>\n",
       "      <td>124</td>\n",
       "      <td>2024-01-04</td>\n",
       "      <td>2024-01-05</td>\n",
       "      <td>Critical Path</td>\n",
       "    </tr>\n",
       "    <tr>\n",
       "      <th>6</th>\n",
       "      <td>125</td>\n",
       "      <td>2024-01-05</td>\n",
       "      <td>2024-01-06</td>\n",
       "      <td>Critical Path</td>\n",
       "    </tr>\n",
       "    <tr>\n",
       "      <th>7</th>\n",
       "      <td>131</td>\n",
       "      <td>2024-01-02</td>\n",
       "      <td>2024-01-03</td>\n",
       "      <td>NA</td>\n",
       "    </tr>\n",
       "    <tr>\n",
       "      <th>8</th>\n",
       "      <td>132</td>\n",
       "      <td>2024-01-02</td>\n",
       "      <td>2024-01-03</td>\n",
       "      <td>NA</td>\n",
       "    </tr>\n",
       "    <tr>\n",
       "      <th>9</th>\n",
       "      <td>133</td>\n",
       "      <td>2024-01-03</td>\n",
       "      <td>2024-01-04</td>\n",
       "      <td>NA</td>\n",
       "    </tr>\n",
       "    <tr>\n",
       "      <th>10</th>\n",
       "      <td>134</td>\n",
       "      <td>2024-01-04</td>\n",
       "      <td>2024-01-05</td>\n",
       "      <td>NA</td>\n",
       "    </tr>\n",
       "    <tr>\n",
       "      <th>11</th>\n",
       "      <td>141</td>\n",
       "      <td>2024-01-06</td>\n",
       "      <td>2024-01-07</td>\n",
       "      <td>Critical Path</td>\n",
       "    </tr>\n",
       "    <tr>\n",
       "      <th>12</th>\n",
       "      <td>142</td>\n",
       "      <td>2024-01-07</td>\n",
       "      <td>2024-01-08</td>\n",
       "      <td>Critical Path</td>\n",
       "    </tr>\n",
       "    <tr>\n",
       "      <th>13</th>\n",
       "      <td>211</td>\n",
       "      <td>2024-01-08</td>\n",
       "      <td>2024-01-09</td>\n",
       "      <td>NA</td>\n",
       "    </tr>\n",
       "    <tr>\n",
       "      <th>14</th>\n",
       "      <td>212</td>\n",
       "      <td>2024-01-08</td>\n",
       "      <td>2024-01-09</td>\n",
       "      <td>NA</td>\n",
       "    </tr>\n",
       "    <tr>\n",
       "      <th>15</th>\n",
       "      <td>221</td>\n",
       "      <td>2024-01-09</td>\n",
       "      <td>2024-01-10</td>\n",
       "      <td>NA</td>\n",
       "    </tr>\n",
       "    <tr>\n",
       "      <th>16</th>\n",
       "      <td>222</td>\n",
       "      <td>2024-01-09</td>\n",
       "      <td>2024-01-10</td>\n",
       "      <td>NA</td>\n",
       "    </tr>\n",
       "    <tr>\n",
       "      <th>17</th>\n",
       "      <td>223</td>\n",
       "      <td>2024-01-09</td>\n",
       "      <td>2024-01-10</td>\n",
       "      <td>NA</td>\n",
       "    </tr>\n",
       "    <tr>\n",
       "      <th>18</th>\n",
       "      <td>224</td>\n",
       "      <td>2024-01-09</td>\n",
       "      <td>2024-01-10</td>\n",
       "      <td>NA</td>\n",
       "    </tr>\n",
       "    <tr>\n",
       "      <th>19</th>\n",
       "      <td>225</td>\n",
       "      <td>2024-01-09</td>\n",
       "      <td>2024-01-10</td>\n",
       "      <td>NA</td>\n",
       "    </tr>\n",
       "    <tr>\n",
       "      <th>20</th>\n",
       "      <td>226</td>\n",
       "      <td>2024-01-09</td>\n",
       "      <td>2024-01-10</td>\n",
       "      <td>NA</td>\n",
       "    </tr>\n",
       "    <tr>\n",
       "      <th>21</th>\n",
       "      <td>227</td>\n",
       "      <td>2024-01-09</td>\n",
       "      <td>2024-01-10</td>\n",
       "      <td>NA</td>\n",
       "    </tr>\n",
       "    <tr>\n",
       "      <th>22</th>\n",
       "      <td>231</td>\n",
       "      <td>2024-01-10</td>\n",
       "      <td>2024-01-14</td>\n",
       "      <td>NA</td>\n",
       "    </tr>\n",
       "    <tr>\n",
       "      <th>23</th>\n",
       "      <td>311</td>\n",
       "      <td>2024-01-10</td>\n",
       "      <td>2024-01-12</td>\n",
       "      <td>NA</td>\n",
       "    </tr>\n",
       "    <tr>\n",
       "      <th>24</th>\n",
       "      <td>312</td>\n",
       "      <td>2024-01-10</td>\n",
       "      <td>2024-01-12</td>\n",
       "      <td>NA</td>\n",
       "    </tr>\n",
       "    <tr>\n",
       "      <th>25</th>\n",
       "      <td>321</td>\n",
       "      <td>2024-01-14</td>\n",
       "      <td>2024-01-16</td>\n",
       "      <td>NA</td>\n",
       "    </tr>\n",
       "    <tr>\n",
       "      <th>26</th>\n",
       "      <td>322</td>\n",
       "      <td>2024-01-16</td>\n",
       "      <td>2024-01-18</td>\n",
       "      <td>NA</td>\n",
       "    </tr>\n",
       "    <tr>\n",
       "      <th>27</th>\n",
       "      <td>331</td>\n",
       "      <td>2024-01-16</td>\n",
       "      <td>2024-01-17</td>\n",
       "      <td>NA</td>\n",
       "    </tr>\n",
       "    <tr>\n",
       "      <th>28</th>\n",
       "      <td>332</td>\n",
       "      <td>2024-01-16</td>\n",
       "      <td>2024-01-17</td>\n",
       "      <td>NA</td>\n",
       "    </tr>\n",
       "    <tr>\n",
       "      <th>29</th>\n",
       "      <td>341</td>\n",
       "      <td>2024-01-16</td>\n",
       "      <td>2024-01-18</td>\n",
       "      <td>NA</td>\n",
       "    </tr>\n",
       "    <tr>\n",
       "      <th>30</th>\n",
       "      <td>342</td>\n",
       "      <td>2024-01-18</td>\n",
       "      <td>2024-01-20</td>\n",
       "      <td>NA</td>\n",
       "    </tr>\n",
       "    <tr>\n",
       "      <th>31</th>\n",
       "      <td>351</td>\n",
       "      <td>2024-01-18</td>\n",
       "      <td>2024-01-20</td>\n",
       "      <td>NA</td>\n",
       "    </tr>\n",
       "    <tr>\n",
       "      <th>32</th>\n",
       "      <td>352</td>\n",
       "      <td>2024-01-18</td>\n",
       "      <td>2024-01-20</td>\n",
       "      <td>NA</td>\n",
       "    </tr>\n",
       "    <tr>\n",
       "      <th>33</th>\n",
       "      <td>361</td>\n",
       "      <td>2024-01-14</td>\n",
       "      <td>2024-01-16</td>\n",
       "      <td>NA</td>\n",
       "    </tr>\n",
       "    <tr>\n",
       "      <th>34</th>\n",
       "      <td>362</td>\n",
       "      <td>2024-01-16</td>\n",
       "      <td>2024-01-17</td>\n",
       "      <td>NA</td>\n",
       "    </tr>\n",
       "    <tr>\n",
       "      <th>35</th>\n",
       "      <td>411</td>\n",
       "      <td>2024-01-20</td>\n",
       "      <td>2024-01-21</td>\n",
       "      <td>NA</td>\n",
       "    </tr>\n",
       "    <tr>\n",
       "      <th>36</th>\n",
       "      <td>412</td>\n",
       "      <td>2024-01-17</td>\n",
       "      <td>2024-01-18</td>\n",
       "      <td>NA</td>\n",
       "    </tr>\n",
       "    <tr>\n",
       "      <th>37</th>\n",
       "      <td>421</td>\n",
       "      <td>2024-01-10</td>\n",
       "      <td>2024-01-21</td>\n",
       "      <td>NA</td>\n",
       "    </tr>\n",
       "    <tr>\n",
       "      <th>38</th>\n",
       "      <td>422</td>\n",
       "      <td>2024-01-10</td>\n",
       "      <td>2024-01-24</td>\n",
       "      <td>NA</td>\n",
       "    </tr>\n",
       "    <tr>\n",
       "      <th>39</th>\n",
       "      <td>423</td>\n",
       "      <td>2024-01-10</td>\n",
       "      <td>2024-01-18</td>\n",
       "      <td>NA</td>\n",
       "    </tr>\n",
       "    <tr>\n",
       "      <th>40</th>\n",
       "      <td>424</td>\n",
       "      <td>2024-01-08</td>\n",
       "      <td>2024-01-14</td>\n",
       "      <td>NA</td>\n",
       "    </tr>\n",
       "    <tr>\n",
       "      <th>41</th>\n",
       "      <td>425</td>\n",
       "      <td>2024-01-08</td>\n",
       "      <td>2024-01-26</td>\n",
       "      <td>Critical Path</td>\n",
       "    </tr>\n",
       "    <tr>\n",
       "      <th>42</th>\n",
       "      <td>511</td>\n",
       "      <td>2024-01-21</td>\n",
       "      <td>2024-01-23</td>\n",
       "      <td>NA</td>\n",
       "    </tr>\n",
       "    <tr>\n",
       "      <th>43</th>\n",
       "      <td>512</td>\n",
       "      <td>2024-01-18</td>\n",
       "      <td>2024-01-19</td>\n",
       "      <td>NA</td>\n",
       "    </tr>\n",
       "    <tr>\n",
       "      <th>44</th>\n",
       "      <td>611</td>\n",
       "      <td>2024-01-23</td>\n",
       "      <td>2024-01-25</td>\n",
       "      <td>NA</td>\n",
       "    </tr>\n",
       "    <tr>\n",
       "      <th>45</th>\n",
       "      <td>612</td>\n",
       "      <td>2024-01-25</td>\n",
       "      <td>2024-01-27</td>\n",
       "      <td>NA</td>\n",
       "    </tr>\n",
       "    <tr>\n",
       "      <th>46</th>\n",
       "      <td>621</td>\n",
       "      <td>2024-01-26</td>\n",
       "      <td>2024-01-28</td>\n",
       "      <td>Critical Path</td>\n",
       "    </tr>\n",
       "  </tbody>\n",
       "</table>\n",
       "</div>"
      ],
      "text/plain": [
       "   Task       Start      Finish         Status\n",
       "0   111  2024-01-01  2024-01-02  Critical Path\n",
       "1   112  2024-01-02  2024-01-03             NA\n",
       "2   121  2024-01-02  2024-01-03  Critical Path\n",
       "3   122  2024-01-02  2024-01-03             NA\n",
       "4   123  2024-01-03  2024-01-04  Critical Path\n",
       "5   124  2024-01-04  2024-01-05  Critical Path\n",
       "6   125  2024-01-05  2024-01-06  Critical Path\n",
       "7   131  2024-01-02  2024-01-03             NA\n",
       "8   132  2024-01-02  2024-01-03             NA\n",
       "9   133  2024-01-03  2024-01-04             NA\n",
       "10  134  2024-01-04  2024-01-05             NA\n",
       "11  141  2024-01-06  2024-01-07  Critical Path\n",
       "12  142  2024-01-07  2024-01-08  Critical Path\n",
       "13  211  2024-01-08  2024-01-09             NA\n",
       "14  212  2024-01-08  2024-01-09             NA\n",
       "15  221  2024-01-09  2024-01-10             NA\n",
       "16  222  2024-01-09  2024-01-10             NA\n",
       "17  223  2024-01-09  2024-01-10             NA\n",
       "18  224  2024-01-09  2024-01-10             NA\n",
       "19  225  2024-01-09  2024-01-10             NA\n",
       "20  226  2024-01-09  2024-01-10             NA\n",
       "21  227  2024-01-09  2024-01-10             NA\n",
       "22  231  2024-01-10  2024-01-14             NA\n",
       "23  311  2024-01-10  2024-01-12             NA\n",
       "24  312  2024-01-10  2024-01-12             NA\n",
       "25  321  2024-01-14  2024-01-16             NA\n",
       "26  322  2024-01-16  2024-01-18             NA\n",
       "27  331  2024-01-16  2024-01-17             NA\n",
       "28  332  2024-01-16  2024-01-17             NA\n",
       "29  341  2024-01-16  2024-01-18             NA\n",
       "30  342  2024-01-18  2024-01-20             NA\n",
       "31  351  2024-01-18  2024-01-20             NA\n",
       "32  352  2024-01-18  2024-01-20             NA\n",
       "33  361  2024-01-14  2024-01-16             NA\n",
       "34  362  2024-01-16  2024-01-17             NA\n",
       "35  411  2024-01-20  2024-01-21             NA\n",
       "36  412  2024-01-17  2024-01-18             NA\n",
       "37  421  2024-01-10  2024-01-21             NA\n",
       "38  422  2024-01-10  2024-01-24             NA\n",
       "39  423  2024-01-10  2024-01-18             NA\n",
       "40  424  2024-01-08  2024-01-14             NA\n",
       "41  425  2024-01-08  2024-01-26  Critical Path\n",
       "42  511  2024-01-21  2024-01-23             NA\n",
       "43  512  2024-01-18  2024-01-19             NA\n",
       "44  611  2024-01-23  2024-01-25             NA\n",
       "45  612  2024-01-25  2024-01-27             NA\n",
       "46  621  2024-01-26  2024-01-28  Critical Path"
      ]
     },
     "metadata": {},
     "output_type": "display_data"
    }
   ],
   "source": [
    "risk_project.show_project_schedule()"
   ]
  },
  {
   "cell_type": "code",
   "execution_count": 99,
   "id": "e74aee78",
   "metadata": {},
   "outputs": [
    {
     "data": {
      "image/png": "[encoded data removed]",
      "text/plain": [
       "<IPython.core.display.Image object>"
      ]
     },
     "metadata": {},
     "output_type": "display_data"
    }
   ],
   "source": [
    "risk_project.plot_project_schedule()"
   ]
  },
  {
   "cell_type": "markdown",
   "id": "53a06780",
   "metadata": {},
   "source": [
    "Further analysis of the Monte Carlo simulations indicated that the critical path activities have shifted, now encompassing the following tasks: \n",
    "<ul>\n",
    "<li><b>Take Detailed Measurements of the Greenhouse Environment (1.1.1):</b> Gathering accurate data about the greenhouse's dimensions, orientation, and environmental conditions is crucial for designing and sizing the PV and rainwater harvesting systems effectively. </li>\n",
    "<li><b>Assess Water Needs (1.2.1):</b> Determining the greenhouse's annual water consumption is essential for selecting the appropriate rainwater harvesting system capacity and ensuring adequate supply for irrigation and other purposes.</li> \n",
    "<li><b>Consider Storage Capacity (1.2.3):</b> Evaluating the storage capacity requirements is crucial for ensuring that the rainwater harvesting system can store enough water to meet the greenhouse's needs during periods of low rainfall.</li> \n",
    "<li><b>Evaluate Filtration Requirements (1.2.4):</b> Assessing the filtration requirements is essential for ensuring that the water collected from the rainwater harvesting system is clean and safe for use. </li>\n",
    "<li><b>Design and Specify Components (1.2.5):</b> Designing and specifying the PV and rainwater harvesting systems, including selecting components like panels, inverters, pumps, storage tanks, and filtration systems, requires careful consideration of technical specifications, compatibility, and efficiency. </li>\n",
    "<li><b>Integrate Rainwater Harvesting and PV Systems (1.4.1):</b> Integrating these systems seamlessly involves proper installation, ensuring proper functioning and integration with the greenhouse's existing infrastructure. </li>\n",
    "<li><b>Create Detailed Drawings and Specifications (1.4.2):</b> Producing comprehensive drawings and specifications is essential for clear communication of the designed systems to contractors, installers, and stakeholders.</li> \n",
    "<li><b>Obtain Authorization for Rainwater Discharge (4.2.5):</b> Obtaining the necessary authorization for rainwater discharge from the relevant authorities is mandatory to ensure compliance with environmental regulations. </li>\n",
    "<li><b>Meet the Greenhouse Owner and Handover All Documents (6.2.1):</b> Conducting a final handover meeting with the greenhouse owner to provide an overview of the completed project, ensure understanding of the systems, and handover all relevant documentation is essential for successful project closure.</li>\n",
    "</ul>\n",
    "    \n",
    "The critical path activities are critical for timely project completion as delays in any of these tasks will directly impact the overall project timeline. The updated estimated project duration based on Monte Carlo simulations and critical path analysis is 27 days. This revised estimate provides a more realistic assessment of the project's duration and the potential impact of risks. \n"
   ]
  },
  {
   "cell_type": "markdown",
   "id": "63ae598a",
   "metadata": {},
   "source": [
    "<div style=\"background-color:#a7af46;\" id=\"scheduling\"><br>\n",
    "<center><h1 style=\"font-family:Lucida Bright\">Activities Scheduling</h1></center><br><br>\n",
    "</div>"
   ]
  },
  {
   "cell_type": "markdown",
   "id": "a7249ffa",
   "metadata": {},
   "source": [
    "<p>\n",
    "To optimize the scheduling of installation tasks based on identified resources and tasks, the <a href=\"https://github.com/tpaviot/ProcessScheduler\">ProcessScheduler</a> package in Python was employed. The table below categorizes tasks as either related to rainwater harvesting component installation or PV installation. The table also defines predecessor dependencies and duration time for each task. Additionally, the allocated resources and their respective amounts are defined, with the following abbreviations:\n",
    "\n",
    "<p>PM: Project Manager</p>\n",
    "<p>ET: Electrical Technician</p>\n",
    "<p>RHT: Rainwater Harvesting Technician</p></br>\n",
    "The numbers within parentheses indicate the quantity of each resource assigned to that activity.\n",
    "</p>\n",
    "<img src=\"images/scheduling_table.jpg\" alt=\"\" style=\"width:auto;\">"
   ]
  },
  {
   "cell_type": "code",
   "execution_count": 100,
   "id": "2c1930a8",
   "metadata": {},
   "outputs": [
    {
     "name": "stdout",
     "output_type": "stream",
     "text": [
      "Solver type:\n",
      "===========\n",
      "\t-> Standard SAT/SMT solver\n",
      "Total computation time:\n",
      "=====================\n",
      "\tInstallation satisfiability checked in 0.03s\n"
     ]
    },
    {
     "data": {
      "image/png": "[encoded data removed]",
      "text/plain": [
       "<Figure size 900x600 with 1 Axes>"
      ]
     },
     "metadata": {},
     "output_type": "display_data"
    }
   ],
   "source": [
    "S = ps.SchedulingProblem('Installation', horizon=7)\n",
    "\n",
    "# Resources\n",
    "r1 = ps.Worker(\"Rainwater Harvesting Technician 1\")\n",
    "r2 = ps.Worker(\"Rainwater Harvesting Technician 2\")\n",
    "r3 = ps.Worker(\"Electrical Technician\")\n",
    "\n",
    "# Tasks\n",
    "t_311 = ps.FixedDurationTask('3.1.1',duration=1)\n",
    "t_312 = ps.FixedDurationTask('3.1.2',duration=1)\n",
    "t_321 = ps.FixedDurationTask('3.2.1',duration=1)\n",
    "t_322 = ps.FixedDurationTask('3.2.2',duration=1)\n",
    "t_331 = ps.FixedDurationTask('3.3.1',duration=1)\n",
    "t_332 = ps.FixedDurationTask('3.3.2',duration=1)\n",
    "t_341 = ps.FixedDurationTask('3.4.1',duration=1)\n",
    "t_342 = ps.FixedDurationTask('3.4.2',duration=1)\n",
    "t_351 = ps.FixedDurationTask('3.5.1',duration=1)\n",
    "t_352 = ps.FixedDurationTask('3.5.2',duration=1)\n",
    "t_361 = ps.FixedDurationTask('3.6.1',duration=1)\n",
    "t_362 = ps.FixedDurationTask('3.6.2',duration=1)\n",
    "\n",
    "# Resource Assignment\n",
    "t_311.add_required_resource(ps.SelectWorkers([r1, r2], nb_workers_to_select = 2, kind='exact'))\n",
    "t_312.add_required_resource(ps.SelectWorkers([r1, r2], nb_workers_to_select = 2, kind='exact'))\n",
    "t_321.add_required_resource(ps.SelectWorkers([r1, r2], nb_workers_to_select = 2, kind='exact'))\n",
    "t_322.add_required_resource(ps.SelectWorkers([r1, r2], nb_workers_to_select = 2, kind='exact'))\n",
    "t_331.add_required_resource(ps.SelectWorkers([r1, r2], nb_workers_to_select = 1, kind='exact'))\n",
    "t_332.add_required_resource(ps.SelectWorkers([r1, r2], nb_workers_to_select = 1, kind='exact'))\n",
    "t_341.add_required_resource(ps.SelectWorkers([r1, r2], nb_workers_to_select = 1, kind='exact'))\n",
    "t_342.add_required_resource(ps.SelectWorkers([r1, r2], nb_workers_to_select = 1, kind='exact'))\n",
    "t_351.add_required_resource(ps.SelectWorkers([r1, r2], nb_workers_to_select = 1, kind='exact'))\n",
    "t_352.add_required_resource(ps.SelectWorkers([r1, r2], nb_workers_to_select = 1, kind='exact'))\n",
    "t_361.add_required_resource(ps.SelectWorkers([r3], nb_workers_to_select = 1, kind='exact'))\n",
    "t_362.add_required_resource(ps.SelectWorkers([r3], nb_workers_to_select = 1, kind='exact'))\n",
    "\n",
    "# Restricting Periods\n",
    "ps.TaskStartAfter(t_361, 2)\n",
    "\n",
    "# Precedences\n",
    "ps.TaskPrecedence(t_311, t_312)\n",
    "ps.TaskPrecedence(t_312, t_321)\n",
    "ps.TaskPrecedence(t_321, t_322)\n",
    "ps.TaskPrecedence(t_322, t_331)\n",
    "ps.TaskPrecedence(t_322, t_332)\n",
    "ps.TaskPrecedence(t_322, t_341)\n",
    "ps.TaskPrecedence(t_322, t_342)\n",
    "ps.TaskPrecedence(t_341, t_342)\n",
    "ps.TaskPrecedence(t_341, t_351)\n",
    "ps.TaskPrecedence(t_341, t_352)\n",
    "ps.TaskPrecedence(t_361, t_362)\n",
    "\n",
    "# plot solution\n",
    "solver = ps.SchedulingSolver(S)\n",
    "solution = solver.solve()\n",
    "solution.render_gantt_matplotlib()"
   ]
  }
 ],
 "metadata": {
  "kernelspec": {
   "display_name": "Python 3 (ipykernel)",
   "language": "python",
   "name": "python3"
  },
  "language_info": {
   "codemirror_mode": {
    "name": "ipython",
    "version": 3
   },
   "file_extension": ".py",
   "mimetype": "text/x-python",
   "name": "python",
   "nbconvert_exporter": "python",
   "pygments_lexer": "ipython3",
   "version": "3.11.4"
  }
 },
 "nbformat": 4,
 "nbformat_minor": 5
}
